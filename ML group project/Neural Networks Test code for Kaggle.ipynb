{
 "cells": [
  {
   "cell_type": "code",
   "execution_count": null,
   "metadata": {
    "colab": {
     "base_uri": "https://localhost:8080/"
    },
    "id": "osI3Xzdlq0cR",
    "outputId": "c8813654-6e84-4809-91cb-2f0729463cfc"
   },
   "outputs": [
    {
     "name": "stdout",
     "output_type": "stream",
     "text": [
      "Mounted at /content/drive\n"
     ]
    }
   ],
   "source": [
    "from google.colab import drive\n",
    "drive.mount('/content/drive')"
   ]
  },
  {
   "cell_type": "markdown",
   "metadata": {
    "id": "Xcnw6BYaoTBl",
    "tags": []
   },
   "source": [
    "# Data preparation"
   ]
  },
  {
   "cell_type": "code",
   "execution_count": null,
   "metadata": {
    "id": "4UmkWONVAeep"
   },
   "outputs": [],
   "source": [
    "import numpy as np\n",
    "import pandas as pd\n",
    "import matplotlib.pyplot as plt\n",
    "import seaborn as sns\n",
    "import plotly.express as px\n",
    "\n",
    "## ignore useless warnings\n",
    "import warnings\n",
    "warnings.filterwarnings(action='ignore')\n",
    "pd.options.display.max_seq_items=8000\n",
    "pd.options.display.max_rows = 8000"
   ]
  },
  {
   "cell_type": "markdown",
   "metadata": {
    "id": "86p-3YQHAeet"
   },
   "source": [
    "## Import the dataset"
   ]
  },
  {
   "cell_type": "code",
   "execution_count": null,
   "metadata": {
    "id": "eOiWzRZEAeet"
   },
   "outputs": [],
   "source": [
    "#Loading the train set\n",
    "train = pd.read_csv('/content/drive/MyDrive/energy_dataset/train.csv')\n",
    "weather_train = pd.read_csv('/content/drive/MyDrive/energy_dataset/weather_train.csv')"
   ]
  },
  {
   "cell_type": "code",
   "execution_count": null,
   "metadata": {
    "id": "R744JMl-jsLC"
   },
   "outputs": [],
   "source": [
    "building = pd.read_csv('/content/drive/MyDrive/energy_dataset/building_metadata.csv')"
   ]
  },
  {
   "cell_type": "code",
   "execution_count": null,
   "metadata": {
    "id": "jUESaSBvCAEr"
   },
   "outputs": [],
   "source": [
    "# Loading test set\n",
    "test = pd.read_csv('/content/drive/MyDrive/energy_dataset/test.csv')\n",
    "weather_test = pd.read_csv('/content/drive/MyDrive/energy_dataset/weather_test.csv')"
   ]
  },
  {
   "cell_type": "code",
   "execution_count": null,
   "metadata": {
    "id": "UeZ5tcaZAeev"
   },
   "outputs": [],
   "source": [
    "#https://www.kaggle.com/kernels/scriptcontent/3684066/download\n",
    "# WE MAY USE THIS FUNCTION TO REDUCE MEMORY USEAGE\n",
    "\n",
    "from pandas.api.types import is_datetime64_any_dtype as is_datetime\n",
    "from pandas.api.types import is_categorical_dtype\n",
    "\n",
    "def reduce_mem_usage(df, use_float16=False):\n",
    "    \"\"\" iterate through all the columns of a dataframe and modify the data type\n",
    "        to reduce memory usage.        \n",
    "    \"\"\"\n",
    "    start_mem = df.memory_usage().sum() / 1024**2\n",
    "    print('Memory usage of dataframe is {:.2f} MB'.format(start_mem))\n",
    "    \n",
    "    #iterating over every column and finding the type of the column\n",
    "    for col in df.columns:\n",
    "      if is_datetime(df[col]) or is_categorical_dtype(df[col]):\n",
    "            continue\n",
    "      col_type = df[col].dtype\n",
    "        \n",
    "        #If the columns is not object\n",
    "      if col_type != object:\n",
    "          #Get the minimum and maximum value\n",
    "            c_min = df[col].min()\n",
    "            c_max = df[col].max()\n",
    "            #If the type is int\n",
    "            if str(col_type)[:3] == 'int':\n",
    "              #If the min max values lies with thin the range of int8 type then assign the type as int8\n",
    "                if c_min > np.iinfo(np.int8).min and c_max < np.iinfo(np.int8).max:\n",
    "                    df[col] = df[col].astype(np.int8)\n",
    "              #If the min max values lies with thin the range of int16 type then assign the type as int16 \n",
    "                elif c_min > np.iinfo(np.int16).min and c_max < np.iinfo(np.int16).max:\n",
    "                    df[col] = df[col].astype(np.int16)\n",
    "              #If the min max values lies with thin the range of int32 type then assign the type as int32\n",
    "                elif c_min > np.iinfo(np.int32).min and c_max < np.iinfo(np.int32).max:\n",
    "                    df[col] = df[col].astype(np.int32)\n",
    "              #If the min max values lies with thin the range of int64 type then assign the type as int64\n",
    "                elif c_min > np.iinfo(np.int64).min and c_max < np.iinfo(np.int64).max:\n",
    "                    df[col] = df[col].astype(np.int64)  \n",
    "            else:\n",
    "              #If the min max values lies with thin the range of float16 type then assign the type as float16\n",
    "                if c_min > np.finfo(np.float16).min and c_max < np.finfo(np.float16).max:\n",
    "                    df[col] = df[col].astype(np.float16)\n",
    "              #If the min max values lies with thin the range of float32 type then assign the type as float32\n",
    "                elif c_min > np.finfo(np.float32).min and c_max < np.finfo(np.float32).max:\n",
    "                    df[col] = df[col].astype(np.float32)\n",
    "                else:\n",
    "                    df[col] = df[col].astype(np.float64)\n",
    "      else:\n",
    "            df[col] = df[col].astype('category')\n",
    "\n",
    "    end_mem = df.memory_usage().sum() / 1024**2\n",
    "    print('Memory usage after optimization is: {:.2f} MB'.format(end_mem))\n",
    "    print('Decreased by {:.1f}%'.format(100 * (start_mem - end_mem) / start_mem))\n",
    "    \n",
    "    return df"
   ]
  },
  {
   "cell_type": "code",
   "execution_count": null,
   "metadata": {
    "colab": {
     "base_uri": "https://localhost:8080/"
    },
    "id": "3PJ9w7m4Aeew",
    "outputId": "2dd64f16-23f5-4ed4-c8ba-68f9b27140d0"
   },
   "outputs": [
    {
     "name": "stdout",
     "output_type": "stream",
     "text": [
      "Memory usage of dataframe is 616.95 MB\n",
      "Memory usage after optimization is: 173.84 MB\n",
      "Decreased by 71.8%\n",
      "Memory usage of dataframe is 9.60 MB\n",
      "Memory usage after optimization is: 2.59 MB\n",
      "Decreased by 73.1%\n"
     ]
    }
   ],
   "source": [
    "# Memory reduce\n",
    "train = reduce_mem_usage(train)\n",
    "weather_train=reduce_mem_usage(weather_train)"
   ]
  },
  {
   "cell_type": "code",
   "execution_count": null,
   "metadata": {
    "colab": {
     "base_uri": "https://localhost:8080/"
    },
    "id": "OUjvlb6QKGeb",
    "outputId": "2047290d-0e7c-4a05-b316-f027bad8853d"
   },
   "outputs": [
    {
     "name": "stdout",
     "output_type": "stream",
     "text": [
      "Memory usage of dataframe is 0.07 MB\n",
      "Memory usage after optimization is: 0.02 MB\n",
      "Decreased by 73.9%\n"
     ]
    }
   ],
   "source": [
    "building = reduce_mem_usage(building)"
   ]
  },
  {
   "cell_type": "code",
   "execution_count": null,
   "metadata": {
    "colab": {
     "base_uri": "https://localhost:8080/"
    },
    "id": "3U8qJYLrjiMV",
    "outputId": "e3efe111-3765-4f66-d58d-d80594b224eb"
   },
   "outputs": [
    {
     "name": "stdout",
     "output_type": "stream",
     "text": [
      "Memory usage of dataframe is 1272.51 MB\n",
      "Memory usage after optimization is: 358.53 MB\n",
      "Decreased by 71.8%\n",
      "Memory usage of dataframe is 19.04 MB\n",
      "Memory usage after optimization is: 5.13 MB\n",
      "Decreased by 73.0%\n"
     ]
    }
   ],
   "source": [
    "test = reduce_mem_usage(test)\n",
    "weather_test = reduce_mem_usage(weather_test)"
   ]
  },
  {
   "cell_type": "markdown",
   "metadata": {
    "id": "4faskHvMAeew"
   },
   "source": [
    "## Combining the datasets"
   ]
  },
  {
   "cell_type": "code",
   "execution_count": null,
   "metadata": {
    "id": "8ONWfe-gAeex"
   },
   "outputs": [],
   "source": [
    "#We will combine the all the data for train set in a single dataframe and test set in another dataframe\n",
    "# Merging train set\n",
    "train_df = train.merge(building, on='building_id', how='left')\n",
    "train_df = train_df.merge(weather_train, on=['site_id', 'timestamp'], how='left')"
   ]
  },
  {
   "cell_type": "code",
   "execution_count": null,
   "metadata": {
    "id": "qTtJ1LRuCcJA"
   },
   "outputs": [],
   "source": [
    "# Merging test set\n",
    "test_df = test.merge(building, on='building_id', how='left')\n",
    "test_df = test_df.merge(weather_test, on=['site_id', 'timestamp'], how='left')"
   ]
  },
  {
   "cell_type": "markdown",
   "metadata": {
    "id": "O8agE2QTAeey"
   },
   "source": [
    "## Break the datatime into day, month"
   ]
  },
  {
   "cell_type": "code",
   "execution_count": null,
   "metadata": {
    "id": "XyEgsthVhkuO"
   },
   "outputs": [],
   "source": [
    "# We will break the timestamp into hour of the day, day of week, month and the year.\n",
    "# Maybe the timestamp column should be drop during training stage.\n",
    "\n",
    "def break_datetime(df):\n",
    "  df['timestamp']= pd.to_datetime(df['timestamp'])\n",
    "  df['hour']= np.uint8(df['timestamp'].dt.hour)\n",
    "  df['dayofweek']= np.uint8(df['timestamp'].dt.dayofweek)\n",
    "  df['month']= np.uint8(df['timestamp'].dt.month)\n",
    "  df['dayofyear']= np.uint16(df['timestamp'].dt.dayofyear)\n",
    "  df['day']= np.uint16(df['timestamp'].dt.day) #day of month\n",
    "  df['year']= np.uint16(df['timestamp'].dt.year)\n",
    "  return df"
   ]
  },
  {
   "cell_type": "code",
   "execution_count": null,
   "metadata": {
    "id": "TmEuqyr4horJ"
   },
   "outputs": [],
   "source": [
    "train_df = break_datetime(train_df)"
   ]
  },
  {
   "cell_type": "code",
   "execution_count": null,
   "metadata": {
    "id": "AhYLS1MQGLGT"
   },
   "outputs": [],
   "source": [
    "test_df = break_datetime(test_df)"
   ]
  },
  {
   "cell_type": "code",
   "execution_count": null,
   "metadata": {
    "colab": {
     "base_uri": "https://localhost:8080/",
     "height": 386
    },
    "id": "GbFWUy1VAeey",
    "outputId": "a5a93bcf-b2d1-4c60-8669-e788286312e5"
   },
   "outputs": [
    {
     "data": {
      "text/html": [
       "\n",
       "  <div id=\"df-4c5b577b-a2f7-48b4-8a7d-7cc1303915b6\">\n",
       "    <div class=\"colab-df-container\">\n",
       "      <div>\n",
       "<style scoped>\n",
       "    .dataframe tbody tr th:only-of-type {\n",
       "        vertical-align: middle;\n",
       "    }\n",
       "\n",
       "    .dataframe tbody tr th {\n",
       "        vertical-align: top;\n",
       "    }\n",
       "\n",
       "    .dataframe thead th {\n",
       "        text-align: right;\n",
       "    }\n",
       "</style>\n",
       "<table border=\"1\" class=\"dataframe\">\n",
       "  <thead>\n",
       "    <tr style=\"text-align: right;\">\n",
       "      <th></th>\n",
       "      <th>building_id</th>\n",
       "      <th>meter</th>\n",
       "      <th>timestamp</th>\n",
       "      <th>meter_reading</th>\n",
       "      <th>site_id</th>\n",
       "      <th>primary_use</th>\n",
       "      <th>square_feet</th>\n",
       "      <th>year_built</th>\n",
       "      <th>floor_count</th>\n",
       "      <th>air_temperature</th>\n",
       "      <th>...</th>\n",
       "      <th>precip_depth_1_hr</th>\n",
       "      <th>sea_level_pressure</th>\n",
       "      <th>wind_direction</th>\n",
       "      <th>wind_speed</th>\n",
       "      <th>hour</th>\n",
       "      <th>dayofweek</th>\n",
       "      <th>month</th>\n",
       "      <th>dayofyear</th>\n",
       "      <th>day</th>\n",
       "      <th>year</th>\n",
       "    </tr>\n",
       "  </thead>\n",
       "  <tbody>\n",
       "    <tr>\n",
       "      <th>0</th>\n",
       "      <td>0</td>\n",
       "      <td>0</td>\n",
       "      <td>2016-01-01</td>\n",
       "      <td>0.0</td>\n",
       "      <td>0</td>\n",
       "      <td>Education</td>\n",
       "      <td>7432</td>\n",
       "      <td>2008.0</td>\n",
       "      <td>NaN</td>\n",
       "      <td>25.0</td>\n",
       "      <td>...</td>\n",
       "      <td>NaN</td>\n",
       "      <td>1019.5</td>\n",
       "      <td>0.0</td>\n",
       "      <td>0.0</td>\n",
       "      <td>0</td>\n",
       "      <td>4</td>\n",
       "      <td>1</td>\n",
       "      <td>1</td>\n",
       "      <td>1</td>\n",
       "      <td>2016</td>\n",
       "    </tr>\n",
       "    <tr>\n",
       "      <th>1</th>\n",
       "      <td>1</td>\n",
       "      <td>0</td>\n",
       "      <td>2016-01-01</td>\n",
       "      <td>0.0</td>\n",
       "      <td>0</td>\n",
       "      <td>Education</td>\n",
       "      <td>2720</td>\n",
       "      <td>2004.0</td>\n",
       "      <td>NaN</td>\n",
       "      <td>25.0</td>\n",
       "      <td>...</td>\n",
       "      <td>NaN</td>\n",
       "      <td>1019.5</td>\n",
       "      <td>0.0</td>\n",
       "      <td>0.0</td>\n",
       "      <td>0</td>\n",
       "      <td>4</td>\n",
       "      <td>1</td>\n",
       "      <td>1</td>\n",
       "      <td>1</td>\n",
       "      <td>2016</td>\n",
       "    </tr>\n",
       "    <tr>\n",
       "      <th>2</th>\n",
       "      <td>2</td>\n",
       "      <td>0</td>\n",
       "      <td>2016-01-01</td>\n",
       "      <td>0.0</td>\n",
       "      <td>0</td>\n",
       "      <td>Education</td>\n",
       "      <td>5376</td>\n",
       "      <td>1991.0</td>\n",
       "      <td>NaN</td>\n",
       "      <td>25.0</td>\n",
       "      <td>...</td>\n",
       "      <td>NaN</td>\n",
       "      <td>1019.5</td>\n",
       "      <td>0.0</td>\n",
       "      <td>0.0</td>\n",
       "      <td>0</td>\n",
       "      <td>4</td>\n",
       "      <td>1</td>\n",
       "      <td>1</td>\n",
       "      <td>1</td>\n",
       "      <td>2016</td>\n",
       "    </tr>\n",
       "    <tr>\n",
       "      <th>3</th>\n",
       "      <td>3</td>\n",
       "      <td>0</td>\n",
       "      <td>2016-01-01</td>\n",
       "      <td>0.0</td>\n",
       "      <td>0</td>\n",
       "      <td>Education</td>\n",
       "      <td>23685</td>\n",
       "      <td>2002.0</td>\n",
       "      <td>NaN</td>\n",
       "      <td>25.0</td>\n",
       "      <td>...</td>\n",
       "      <td>NaN</td>\n",
       "      <td>1019.5</td>\n",
       "      <td>0.0</td>\n",
       "      <td>0.0</td>\n",
       "      <td>0</td>\n",
       "      <td>4</td>\n",
       "      <td>1</td>\n",
       "      <td>1</td>\n",
       "      <td>1</td>\n",
       "      <td>2016</td>\n",
       "    </tr>\n",
       "    <tr>\n",
       "      <th>4</th>\n",
       "      <td>4</td>\n",
       "      <td>0</td>\n",
       "      <td>2016-01-01</td>\n",
       "      <td>0.0</td>\n",
       "      <td>0</td>\n",
       "      <td>Education</td>\n",
       "      <td>116607</td>\n",
       "      <td>1975.0</td>\n",
       "      <td>NaN</td>\n",
       "      <td>25.0</td>\n",
       "      <td>...</td>\n",
       "      <td>NaN</td>\n",
       "      <td>1019.5</td>\n",
       "      <td>0.0</td>\n",
       "      <td>0.0</td>\n",
       "      <td>0</td>\n",
       "      <td>4</td>\n",
       "      <td>1</td>\n",
       "      <td>1</td>\n",
       "      <td>1</td>\n",
       "      <td>2016</td>\n",
       "    </tr>\n",
       "  </tbody>\n",
       "</table>\n",
       "<p>5 rows × 22 columns</p>\n",
       "</div>\n",
       "      <button class=\"colab-df-convert\" onclick=\"convertToInteractive('df-4c5b577b-a2f7-48b4-8a7d-7cc1303915b6')\"\n",
       "              title=\"Convert this dataframe to an interactive table.\"\n",
       "              style=\"display:none;\">\n",
       "        \n",
       "  <svg xmlns=\"http://www.w3.org/2000/svg\" height=\"24px\"viewBox=\"0 0 24 24\"\n",
       "       width=\"24px\">\n",
       "    <path d=\"M0 0h24v24H0V0z\" fill=\"none\"/>\n",
       "    <path d=\"M18.56 5.44l.94 2.06.94-2.06 2.06-.94-2.06-.94-.94-2.06-.94 2.06-2.06.94zm-11 1L8.5 8.5l.94-2.06 2.06-.94-2.06-.94L8.5 2.5l-.94 2.06-2.06.94zm10 10l.94 2.06.94-2.06 2.06-.94-2.06-.94-.94-2.06-.94 2.06-2.06.94z\"/><path d=\"M17.41 7.96l-1.37-1.37c-.4-.4-.92-.59-1.43-.59-.52 0-1.04.2-1.43.59L10.3 9.45l-7.72 7.72c-.78.78-.78 2.05 0 2.83L4 21.41c.39.39.9.59 1.41.59.51 0 1.02-.2 1.41-.59l7.78-7.78 2.81-2.81c.8-.78.8-2.07 0-2.86zM5.41 20L4 18.59l7.72-7.72 1.47 1.35L5.41 20z\"/>\n",
       "  </svg>\n",
       "      </button>\n",
       "      \n",
       "  <style>\n",
       "    .colab-df-container {\n",
       "      display:flex;\n",
       "      flex-wrap:wrap;\n",
       "      gap: 12px;\n",
       "    }\n",
       "\n",
       "    .colab-df-convert {\n",
       "      background-color: #E8F0FE;\n",
       "      border: none;\n",
       "      border-radius: 50%;\n",
       "      cursor: pointer;\n",
       "      display: none;\n",
       "      fill: #1967D2;\n",
       "      height: 32px;\n",
       "      padding: 0 0 0 0;\n",
       "      width: 32px;\n",
       "    }\n",
       "\n",
       "    .colab-df-convert:hover {\n",
       "      background-color: #E2EBFA;\n",
       "      box-shadow: 0px 1px 2px rgba(60, 64, 67, 0.3), 0px 1px 3px 1px rgba(60, 64, 67, 0.15);\n",
       "      fill: #174EA6;\n",
       "    }\n",
       "\n",
       "    [theme=dark] .colab-df-convert {\n",
       "      background-color: #3B4455;\n",
       "      fill: #D2E3FC;\n",
       "    }\n",
       "\n",
       "    [theme=dark] .colab-df-convert:hover {\n",
       "      background-color: #434B5C;\n",
       "      box-shadow: 0px 1px 3px 1px rgba(0, 0, 0, 0.15);\n",
       "      filter: drop-shadow(0px 1px 2px rgba(0, 0, 0, 0.3));\n",
       "      fill: #FFFFFF;\n",
       "    }\n",
       "  </style>\n",
       "\n",
       "      <script>\n",
       "        const buttonEl =\n",
       "          document.querySelector('#df-4c5b577b-a2f7-48b4-8a7d-7cc1303915b6 button.colab-df-convert');\n",
       "        buttonEl.style.display =\n",
       "          google.colab.kernel.accessAllowed ? 'block' : 'none';\n",
       "\n",
       "        async function convertToInteractive(key) {\n",
       "          const element = document.querySelector('#df-4c5b577b-a2f7-48b4-8a7d-7cc1303915b6');\n",
       "          const dataTable =\n",
       "            await google.colab.kernel.invokeFunction('convertToInteractive',\n",
       "                                                     [key], {});\n",
       "          if (!dataTable) return;\n",
       "\n",
       "          const docLinkHtml = 'Like what you see? Visit the ' +\n",
       "            '<a target=\"_blank\" href=https://colab.research.google.com/notebooks/data_table.ipynb>data table notebook</a>'\n",
       "            + ' to learn more about interactive tables.';\n",
       "          element.innerHTML = '';\n",
       "          dataTable['output_type'] = 'display_data';\n",
       "          await google.colab.output.renderOutput(dataTable, element);\n",
       "          const docLink = document.createElement('div');\n",
       "          docLink.innerHTML = docLinkHtml;\n",
       "          element.appendChild(docLink);\n",
       "        }\n",
       "      </script>\n",
       "    </div>\n",
       "  </div>\n",
       "  "
      ],
      "text/plain": [
       "   building_id  meter  timestamp  meter_reading  site_id primary_use  \\\n",
       "0            0      0 2016-01-01            0.0        0   Education   \n",
       "1            1      0 2016-01-01            0.0        0   Education   \n",
       "2            2      0 2016-01-01            0.0        0   Education   \n",
       "3            3      0 2016-01-01            0.0        0   Education   \n",
       "4            4      0 2016-01-01            0.0        0   Education   \n",
       "\n",
       "   square_feet  year_built  floor_count  air_temperature  ...  \\\n",
       "0         7432      2008.0          NaN             25.0  ...   \n",
       "1         2720      2004.0          NaN             25.0  ...   \n",
       "2         5376      1991.0          NaN             25.0  ...   \n",
       "3        23685      2002.0          NaN             25.0  ...   \n",
       "4       116607      1975.0          NaN             25.0  ...   \n",
       "\n",
       "   precip_depth_1_hr  sea_level_pressure  wind_direction  wind_speed  hour  \\\n",
       "0                NaN              1019.5             0.0         0.0     0   \n",
       "1                NaN              1019.5             0.0         0.0     0   \n",
       "2                NaN              1019.5             0.0         0.0     0   \n",
       "3                NaN              1019.5             0.0         0.0     0   \n",
       "4                NaN              1019.5             0.0         0.0     0   \n",
       "\n",
       "   dayofweek  month  dayofyear  day  year  \n",
       "0          4      1          1    1  2016  \n",
       "1          4      1          1    1  2016  \n",
       "2          4      1          1    1  2016  \n",
       "3          4      1          1    1  2016  \n",
       "4          4      1          1    1  2016  \n",
       "\n",
       "[5 rows x 22 columns]"
      ]
     },
     "execution_count": 14,
     "metadata": {},
     "output_type": "execute_result"
    }
   ],
   "source": [
    "train_df.head(5)"
   ]
  },
  {
   "cell_type": "markdown",
   "metadata": {
    "id": "JOtN-pp3FPlB",
    "tags": []
   },
   "source": [
    "# Preprocessing"
   ]
  },
  {
   "cell_type": "markdown",
   "metadata": {},
   "source": [
    "## Outlier treatment"
   ]
  },
  {
   "cell_type": "code",
   "execution_count": null,
   "metadata": {},
   "outputs": [],
   "source": [
    "from numpy.random import seed\n",
    "from numpy.random import randn\n",
    "from numpy import mean\n",
    "from numpy import std\n",
    "import scipy.stats as st"
   ]
  },
  {
   "cell_type": "code",
   "execution_count": null,
   "metadata": {},
   "outputs": [],
   "source": [
    "num_col=['building_id','meter','meter_reading','square_feet','cloud_coverage','wind_direction','precip_depth_1_hr','sea_level_pressure','wind_speed', 'dew_temperature', 'air_temperature']"
   ]
  },
  {
   "cell_type": "code",
   "execution_count": null,
   "metadata": {},
   "outputs": [],
   "source": [
    "out_per=[]\n",
    "for i in num_col:\n",
    "    data_mean, data_std = mean(train_df[i]), std(train_df[i])\n",
    "# identify outliers\n",
    "    cut_off = data_std * 3\n",
    "    lower, upper = data_mean - cut_off, data_mean + cut_off\n",
    "    print(i,': \\n')\n",
    "# identify outliers\n",
    "    outliers = [x for x in train_df[i] if x < lower or x > upper]\n",
    "    \n",
    "    num_out=len(outliers)\n",
    "    print('Identified outliers: %d' % num_out)\n",
    "    outliers_removed = [x for x in train_df[i] if x >= lower and x <= upper]\n",
    "    num_nout=len(outliers_removed)\n",
    "    print('Non-outlier observations: %d' % num_nout)\n",
    "    print('\\n')"
   ]
  },
  {
   "cell_type": "markdown",
   "metadata": {
    "id": "-FKXs5i8lQ6o"
   },
   "source": [
    "## Check building outiler"
   ]
  },
  {
   "cell_type": "code",
   "execution_count": null,
   "metadata": {
    "id": "pvXyjUlCaZFk"
   },
   "outputs": [],
   "source": [
    "drop_indices= list(train_df[train_df['building_id']==1099].index)\n",
    "train_df.drop(drop_indices, axis=0, inplace=True)"
   ]
  },
  {
   "cell_type": "markdown",
   "metadata": {
    "id": "Iw9LhNmmWEkm"
   },
   "source": [
    "## Preprocessing for Neural Networks"
   ]
  },
  {
   "cell_type": "code",
   "execution_count": null,
   "metadata": {
    "id": "L2hgmgLeWWzz"
   },
   "outputs": [],
   "source": [
    "train_df1 = train_df[:int(train_df.shape[0] / 2)]"
   ]
  },
  {
   "cell_type": "code",
   "execution_count": null,
   "metadata": {
    "id": "gdp_ucAKWhbr"
   },
   "outputs": [],
   "source": [
    "# Warning this code cell should only be run on Colab PRO since this requires RAM upto 25 GB\n",
    "# The code below groups the data on 5 features and then aggregates the rest of the features required to implement the neural network\n",
    "# The purpose is to categorise our data further so that meaningful insights can be gained during implementation\n",
    "\n",
    "train_df1= train_df1.groupby(['meter',train_df1['building_id'],'primary_use',train_df1['month'], train_df1['day']]).agg({'meter_reading':'sum', 'air_temperature': 'mean', 'wind_speed': 'mean', 'precip_depth_1_hr': 'mean', 'cloud_coverage': 'mean', 'square_feet': 'mean'})"
   ]
  },
  {
   "cell_type": "code",
   "execution_count": null,
   "metadata": {
    "colab": {
     "base_uri": "https://localhost:8080/",
     "height": 455
    },
    "id": "jQmbUErsXuzz",
    "outputId": "3982f74e-5286-4de1-b0ba-3c7023549725"
   },
   "outputs": [
    {
     "data": {
      "text/html": [
       "\n",
       "  <div id=\"df-740231a5-0f20-43a7-8f81-22e25defeab0\">\n",
       "    <div class=\"colab-df-container\">\n",
       "      <div>\n",
       "<style scoped>\n",
       "    .dataframe tbody tr th:only-of-type {\n",
       "        vertical-align: middle;\n",
       "    }\n",
       "\n",
       "    .dataframe tbody tr th {\n",
       "        vertical-align: top;\n",
       "    }\n",
       "\n",
       "    .dataframe thead th {\n",
       "        text-align: right;\n",
       "    }\n",
       "</style>\n",
       "<table border=\"1\" class=\"dataframe\">\n",
       "  <thead>\n",
       "    <tr style=\"text-align: right;\">\n",
       "      <th></th>\n",
       "      <th></th>\n",
       "      <th></th>\n",
       "      <th></th>\n",
       "      <th></th>\n",
       "      <th>meter_reading</th>\n",
       "      <th>air_temperature</th>\n",
       "      <th>wind_speed</th>\n",
       "      <th>precip_depth_1_hr</th>\n",
       "      <th>cloud_coverage</th>\n",
       "      <th>square_feet</th>\n",
       "    </tr>\n",
       "    <tr>\n",
       "      <th>meter</th>\n",
       "      <th>building_id</th>\n",
       "      <th>primary_use</th>\n",
       "      <th>month</th>\n",
       "      <th>day</th>\n",
       "      <th></th>\n",
       "      <th></th>\n",
       "      <th></th>\n",
       "      <th></th>\n",
       "      <th></th>\n",
       "      <th></th>\n",
       "    </tr>\n",
       "  </thead>\n",
       "  <tbody>\n",
       "    <tr>\n",
       "      <th rowspan=\"5\" valign=\"top\">0</th>\n",
       "      <th rowspan=\"5\" valign=\"top\">0</th>\n",
       "      <th rowspan=\"5\" valign=\"top\">Education</th>\n",
       "      <th rowspan=\"5\" valign=\"top\">1</th>\n",
       "      <th>1</th>\n",
       "      <td>0.0</td>\n",
       "      <td>23.343750</td>\n",
       "      <td>1.854492</td>\n",
       "      <td>-0.173950</td>\n",
       "      <td>4.285156</td>\n",
       "      <td>7432.0</td>\n",
       "    </tr>\n",
       "    <tr>\n",
       "      <th>2</th>\n",
       "      <td>0.0</td>\n",
       "      <td>19.531250</td>\n",
       "      <td>3.925781</td>\n",
       "      <td>-0.083313</td>\n",
       "      <td>5.667969</td>\n",
       "      <td>7432.0</td>\n",
       "    </tr>\n",
       "    <tr>\n",
       "      <th>3</th>\n",
       "      <td>0.0</td>\n",
       "      <td>14.828125</td>\n",
       "      <td>5.000000</td>\n",
       "      <td>0.500000</td>\n",
       "      <td>8.000000</td>\n",
       "      <td>7432.0</td>\n",
       "    </tr>\n",
       "    <tr>\n",
       "      <th>4</th>\n",
       "      <td>0.0</td>\n",
       "      <td>12.664062</td>\n",
       "      <td>4.285156</td>\n",
       "      <td>0.666504</td>\n",
       "      <td>2.427734</td>\n",
       "      <td>7432.0</td>\n",
       "    </tr>\n",
       "    <tr>\n",
       "      <th>5</th>\n",
       "      <td>0.0</td>\n",
       "      <td>14.062500</td>\n",
       "      <td>6.257812</td>\n",
       "      <td>0.000000</td>\n",
       "      <td>1.333008</td>\n",
       "      <td>7432.0</td>\n",
       "    </tr>\n",
       "    <tr>\n",
       "      <th>...</th>\n",
       "      <th>...</th>\n",
       "      <th>...</th>\n",
       "      <th>...</th>\n",
       "      <th>...</th>\n",
       "      <td>...</td>\n",
       "      <td>...</td>\n",
       "      <td>...</td>\n",
       "      <td>...</td>\n",
       "      <td>...</td>\n",
       "      <td>...</td>\n",
       "    </tr>\n",
       "    <tr>\n",
       "      <th rowspan=\"5\" valign=\"top\">3</th>\n",
       "      <th rowspan=\"5\" valign=\"top\">1448</th>\n",
       "      <th rowspan=\"5\" valign=\"top\">Warehouse/storage</th>\n",
       "      <th rowspan=\"5\" valign=\"top\">7</th>\n",
       "      <th>27</th>\n",
       "      <td>0.0</td>\n",
       "      <td>NaN</td>\n",
       "      <td>NaN</td>\n",
       "      <td>NaN</td>\n",
       "      <td>NaN</td>\n",
       "      <td>NaN</td>\n",
       "    </tr>\n",
       "    <tr>\n",
       "      <th>28</th>\n",
       "      <td>0.0</td>\n",
       "      <td>NaN</td>\n",
       "      <td>NaN</td>\n",
       "      <td>NaN</td>\n",
       "      <td>NaN</td>\n",
       "      <td>NaN</td>\n",
       "    </tr>\n",
       "    <tr>\n",
       "      <th>29</th>\n",
       "      <td>0.0</td>\n",
       "      <td>NaN</td>\n",
       "      <td>NaN</td>\n",
       "      <td>NaN</td>\n",
       "      <td>NaN</td>\n",
       "      <td>NaN</td>\n",
       "    </tr>\n",
       "    <tr>\n",
       "      <th>30</th>\n",
       "      <td>0.0</td>\n",
       "      <td>NaN</td>\n",
       "      <td>NaN</td>\n",
       "      <td>NaN</td>\n",
       "      <td>NaN</td>\n",
       "      <td>NaN</td>\n",
       "    </tr>\n",
       "    <tr>\n",
       "      <th>31</th>\n",
       "      <td>0.0</td>\n",
       "      <td>NaN</td>\n",
       "      <td>NaN</td>\n",
       "      <td>NaN</td>\n",
       "      <td>NaN</td>\n",
       "      <td>NaN</td>\n",
       "    </tr>\n",
       "  </tbody>\n",
       "</table>\n",
       "<p>20026496 rows × 6 columns</p>\n",
       "</div>\n",
       "      <button class=\"colab-df-convert\" onclick=\"convertToInteractive('df-740231a5-0f20-43a7-8f81-22e25defeab0')\"\n",
       "              title=\"Convert this dataframe to an interactive table.\"\n",
       "              style=\"display:none;\">\n",
       "        \n",
       "  <svg xmlns=\"http://www.w3.org/2000/svg\" height=\"24px\"viewBox=\"0 0 24 24\"\n",
       "       width=\"24px\">\n",
       "    <path d=\"M0 0h24v24H0V0z\" fill=\"none\"/>\n",
       "    <path d=\"M18.56 5.44l.94 2.06.94-2.06 2.06-.94-2.06-.94-.94-2.06-.94 2.06-2.06.94zm-11 1L8.5 8.5l.94-2.06 2.06-.94-2.06-.94L8.5 2.5l-.94 2.06-2.06.94zm10 10l.94 2.06.94-2.06 2.06-.94-2.06-.94-.94-2.06-.94 2.06-2.06.94z\"/><path d=\"M17.41 7.96l-1.37-1.37c-.4-.4-.92-.59-1.43-.59-.52 0-1.04.2-1.43.59L10.3 9.45l-7.72 7.72c-.78.78-.78 2.05 0 2.83L4 21.41c.39.39.9.59 1.41.59.51 0 1.02-.2 1.41-.59l7.78-7.78 2.81-2.81c.8-.78.8-2.07 0-2.86zM5.41 20L4 18.59l7.72-7.72 1.47 1.35L5.41 20z\"/>\n",
       "  </svg>\n",
       "      </button>\n",
       "      \n",
       "  <style>\n",
       "    .colab-df-container {\n",
       "      display:flex;\n",
       "      flex-wrap:wrap;\n",
       "      gap: 12px;\n",
       "    }\n",
       "\n",
       "    .colab-df-convert {\n",
       "      background-color: #E8F0FE;\n",
       "      border: none;\n",
       "      border-radius: 50%;\n",
       "      cursor: pointer;\n",
       "      display: none;\n",
       "      fill: #1967D2;\n",
       "      height: 32px;\n",
       "      padding: 0 0 0 0;\n",
       "      width: 32px;\n",
       "    }\n",
       "\n",
       "    .colab-df-convert:hover {\n",
       "      background-color: #E2EBFA;\n",
       "      box-shadow: 0px 1px 2px rgba(60, 64, 67, 0.3), 0px 1px 3px 1px rgba(60, 64, 67, 0.15);\n",
       "      fill: #174EA6;\n",
       "    }\n",
       "\n",
       "    [theme=dark] .colab-df-convert {\n",
       "      background-color: #3B4455;\n",
       "      fill: #D2E3FC;\n",
       "    }\n",
       "\n",
       "    [theme=dark] .colab-df-convert:hover {\n",
       "      background-color: #434B5C;\n",
       "      box-shadow: 0px 1px 3px 1px rgba(0, 0, 0, 0.15);\n",
       "      filter: drop-shadow(0px 1px 2px rgba(0, 0, 0, 0.3));\n",
       "      fill: #FFFFFF;\n",
       "    }\n",
       "  </style>\n",
       "\n",
       "      <script>\n",
       "        const buttonEl =\n",
       "          document.querySelector('#df-740231a5-0f20-43a7-8f81-22e25defeab0 button.colab-df-convert');\n",
       "        buttonEl.style.display =\n",
       "          google.colab.kernel.accessAllowed ? 'block' : 'none';\n",
       "\n",
       "        async function convertToInteractive(key) {\n",
       "          const element = document.querySelector('#df-740231a5-0f20-43a7-8f81-22e25defeab0');\n",
       "          const dataTable =\n",
       "            await google.colab.kernel.invokeFunction('convertToInteractive',\n",
       "                                                     [key], {});\n",
       "          if (!dataTable) return;\n",
       "\n",
       "          const docLinkHtml = 'Like what you see? Visit the ' +\n",
       "            '<a target=\"_blank\" href=https://colab.research.google.com/notebooks/data_table.ipynb>data table notebook</a>'\n",
       "            + ' to learn more about interactive tables.';\n",
       "          element.innerHTML = '';\n",
       "          dataTable['output_type'] = 'display_data';\n",
       "          await google.colab.output.renderOutput(dataTable, element);\n",
       "          const docLink = document.createElement('div');\n",
       "          docLink.innerHTML = docLinkHtml;\n",
       "          element.appendChild(docLink);\n",
       "        }\n",
       "      </script>\n",
       "    </div>\n",
       "  </div>\n",
       "  "
      ],
      "text/plain": [
       "                                               meter_reading  air_temperature  \\\n",
       "meter building_id primary_use       month day                                   \n",
       "0     0           Education         1     1              0.0        23.343750   \n",
       "                                          2              0.0        19.531250   \n",
       "                                          3              0.0        14.828125   \n",
       "                                          4              0.0        12.664062   \n",
       "                                          5              0.0        14.062500   \n",
       "...                                                      ...              ...   \n",
       "3     1448        Warehouse/storage 7     27             0.0              NaN   \n",
       "                                          28             0.0              NaN   \n",
       "                                          29             0.0              NaN   \n",
       "                                          30             0.0              NaN   \n",
       "                                          31             0.0              NaN   \n",
       "\n",
       "                                               wind_speed  precip_depth_1_hr  \\\n",
       "meter building_id primary_use       month day                                  \n",
       "0     0           Education         1     1      1.854492          -0.173950   \n",
       "                                          2      3.925781          -0.083313   \n",
       "                                          3      5.000000           0.500000   \n",
       "                                          4      4.285156           0.666504   \n",
       "                                          5      6.257812           0.000000   \n",
       "...                                                   ...                ...   \n",
       "3     1448        Warehouse/storage 7     27          NaN                NaN   \n",
       "                                          28          NaN                NaN   \n",
       "                                          29          NaN                NaN   \n",
       "                                          30          NaN                NaN   \n",
       "                                          31          NaN                NaN   \n",
       "\n",
       "                                               cloud_coverage  square_feet  \n",
       "meter building_id primary_use       month day                               \n",
       "0     0           Education         1     1          4.285156       7432.0  \n",
       "                                          2          5.667969       7432.0  \n",
       "                                          3          8.000000       7432.0  \n",
       "                                          4          2.427734       7432.0  \n",
       "                                          5          1.333008       7432.0  \n",
       "...                                                       ...          ...  \n",
       "3     1448        Warehouse/storage 7     27              NaN          NaN  \n",
       "                                          28              NaN          NaN  \n",
       "                                          29              NaN          NaN  \n",
       "                                          30              NaN          NaN  \n",
       "                                          31              NaN          NaN  \n",
       "\n",
       "[20026496 rows x 6 columns]"
      ]
     },
     "execution_count": 13,
     "metadata": {},
     "output_type": "execute_result"
    }
   ],
   "source": [
    "train_df1"
   ]
  },
  {
   "cell_type": "code",
   "execution_count": null,
   "metadata": {
    "colab": {
     "base_uri": "https://localhost:8080/"
    },
    "id": "DcOSk7hMR-1b",
    "outputId": "e4e90b6a-756d-4d05-cd25-7aaf0c56cb6a"
   },
   "outputs": [
    {
     "data": {
      "text/plain": [
       "88"
      ]
     },
     "execution_count": 12,
     "metadata": {},
     "output_type": "execute_result"
    }
   ],
   "source": [
    "import gc\n",
    "gc.collect()"
   ]
  },
  {
   "cell_type": "code",
   "execution_count": null,
   "metadata": {
    "id": "NQ3vCk_qXy-5"
   },
   "outputs": [],
   "source": [
    "test_df= test_df.groupby(['row_id','meter',test_df['building_id'],'primary_use',test_df['month'], test_df['day']]).agg({ 'air_temperature': 'mean', 'wind_speed': 'mean', 'precip_depth_1_hr': 'mean', 'cloud_coverage': 'mean', 'square_feet': 'mean'})"
   ]
  },
  {
   "cell_type": "code",
   "execution_count": null,
   "metadata": {
    "colab": {
     "base_uri": "https://localhost:8080/"
    },
    "id": "MiVn67JkrRpN",
    "outputId": "1b13b1e0-7a6d-40a3-b94b-a7b44b58c5d0"
   },
   "outputs": [
    {
     "name": "stdout",
     "output_type": "stream",
     "text": [
      "Requirement already satisfied: pickle5 in /usr/local/lib/python3.7/dist-packages (0.0.12)\n"
     ]
    }
   ],
   "source": [
    "#!pip install pickle5\n",
    "#import pickle5 as pickle\n",
    "#with open(\"/content/drive/MyDrive/energy_dataset/test_df_groupby.pkl\", \"rb\") as fh:\n",
    "  #test_df = pickle.load(fh)"
   ]
  },
  {
   "cell_type": "code",
   "execution_count": null,
   "metadata": {
    "colab": {
     "base_uri": "https://localhost:8080/",
     "height": 534
    },
    "id": "QDNYbozfX5lg",
    "outputId": "4b8e43b2-7bc8-4c0e-e181-317283d6a5ed"
   },
   "outputs": [
    {
     "data": {
      "text/html": [
       "\n",
       "  <div id=\"df-b7985b78-882c-4dd4-b60e-762b89e81d0b\">\n",
       "    <div class=\"colab-df-container\">\n",
       "      <div>\n",
       "<style scoped>\n",
       "    .dataframe tbody tr th:only-of-type {\n",
       "        vertical-align: middle;\n",
       "    }\n",
       "\n",
       "    .dataframe tbody tr th {\n",
       "        vertical-align: top;\n",
       "    }\n",
       "\n",
       "    .dataframe thead th {\n",
       "        text-align: right;\n",
       "    }\n",
       "</style>\n",
       "<table border=\"1\" class=\"dataframe\">\n",
       "  <thead>\n",
       "    <tr style=\"text-align: right;\">\n",
       "      <th></th>\n",
       "      <th></th>\n",
       "      <th></th>\n",
       "      <th></th>\n",
       "      <th></th>\n",
       "      <th></th>\n",
       "      <th>air_temperature</th>\n",
       "      <th>wind_speed</th>\n",
       "      <th>precip_depth_1_hr</th>\n",
       "      <th>cloud_coverage</th>\n",
       "      <th>square_feet</th>\n",
       "    </tr>\n",
       "    <tr>\n",
       "      <th>row_id</th>\n",
       "      <th>meter</th>\n",
       "      <th>building_id</th>\n",
       "      <th>primary_use</th>\n",
       "      <th>month</th>\n",
       "      <th>day</th>\n",
       "      <th></th>\n",
       "      <th></th>\n",
       "      <th></th>\n",
       "      <th></th>\n",
       "      <th></th>\n",
       "    </tr>\n",
       "  </thead>\n",
       "  <tbody>\n",
       "    <tr>\n",
       "      <th>0</th>\n",
       "      <th>0</th>\n",
       "      <th>0</th>\n",
       "      <th>Education</th>\n",
       "      <th>1</th>\n",
       "      <th>1</th>\n",
       "      <td>17.796875</td>\n",
       "      <td>3.599609</td>\n",
       "      <td>NaN</td>\n",
       "      <td>4.0</td>\n",
       "      <td>7432.0</td>\n",
       "    </tr>\n",
       "    <tr>\n",
       "      <th>1</th>\n",
       "      <th>0</th>\n",
       "      <th>1</th>\n",
       "      <th>Education</th>\n",
       "      <th>1</th>\n",
       "      <th>1</th>\n",
       "      <td>17.796875</td>\n",
       "      <td>3.599609</td>\n",
       "      <td>NaN</td>\n",
       "      <td>4.0</td>\n",
       "      <td>2720.0</td>\n",
       "    </tr>\n",
       "    <tr>\n",
       "      <th>2</th>\n",
       "      <th>0</th>\n",
       "      <th>2</th>\n",
       "      <th>Education</th>\n",
       "      <th>1</th>\n",
       "      <th>1</th>\n",
       "      <td>17.796875</td>\n",
       "      <td>3.599609</td>\n",
       "      <td>NaN</td>\n",
       "      <td>4.0</td>\n",
       "      <td>5376.0</td>\n",
       "    </tr>\n",
       "    <tr>\n",
       "      <th>3</th>\n",
       "      <th>0</th>\n",
       "      <th>3</th>\n",
       "      <th>Education</th>\n",
       "      <th>1</th>\n",
       "      <th>1</th>\n",
       "      <td>17.796875</td>\n",
       "      <td>3.599609</td>\n",
       "      <td>NaN</td>\n",
       "      <td>4.0</td>\n",
       "      <td>23685.0</td>\n",
       "    </tr>\n",
       "    <tr>\n",
       "      <th>4</th>\n",
       "      <th>0</th>\n",
       "      <th>4</th>\n",
       "      <th>Education</th>\n",
       "      <th>1</th>\n",
       "      <th>1</th>\n",
       "      <td>17.796875</td>\n",
       "      <td>3.599609</td>\n",
       "      <td>NaN</td>\n",
       "      <td>4.0</td>\n",
       "      <td>116607.0</td>\n",
       "    </tr>\n",
       "    <tr>\n",
       "      <th>...</th>\n",
       "      <th>...</th>\n",
       "      <th>...</th>\n",
       "      <th>...</th>\n",
       "      <th>...</th>\n",
       "      <th>...</th>\n",
       "      <td>...</td>\n",
       "      <td>...</td>\n",
       "      <td>...</td>\n",
       "      <td>...</td>\n",
       "      <td>...</td>\n",
       "    </tr>\n",
       "    <tr>\n",
       "      <th>41697595</th>\n",
       "      <th>0</th>\n",
       "      <th>1444</th>\n",
       "      <th>Entertainment/public assembly</th>\n",
       "      <th>5</th>\n",
       "      <th>9</th>\n",
       "      <td>NaN</td>\n",
       "      <td>NaN</td>\n",
       "      <td>NaN</td>\n",
       "      <td>NaN</td>\n",
       "      <td>19619.0</td>\n",
       "    </tr>\n",
       "    <tr>\n",
       "      <th>41697596</th>\n",
       "      <th>0</th>\n",
       "      <th>1445</th>\n",
       "      <th>Education</th>\n",
       "      <th>5</th>\n",
       "      <th>9</th>\n",
       "      <td>NaN</td>\n",
       "      <td>NaN</td>\n",
       "      <td>NaN</td>\n",
       "      <td>NaN</td>\n",
       "      <td>4298.0</td>\n",
       "    </tr>\n",
       "    <tr>\n",
       "      <th>41697597</th>\n",
       "      <th>0</th>\n",
       "      <th>1446</th>\n",
       "      <th>Entertainment/public assembly</th>\n",
       "      <th>5</th>\n",
       "      <th>9</th>\n",
       "      <td>NaN</td>\n",
       "      <td>NaN</td>\n",
       "      <td>NaN</td>\n",
       "      <td>NaN</td>\n",
       "      <td>11265.0</td>\n",
       "    </tr>\n",
       "    <tr>\n",
       "      <th>41697598</th>\n",
       "      <th>0</th>\n",
       "      <th>1447</th>\n",
       "      <th>Lodging/residential</th>\n",
       "      <th>5</th>\n",
       "      <th>9</th>\n",
       "      <td>NaN</td>\n",
       "      <td>NaN</td>\n",
       "      <td>NaN</td>\n",
       "      <td>NaN</td>\n",
       "      <td>29775.0</td>\n",
       "    </tr>\n",
       "    <tr>\n",
       "      <th>41697599</th>\n",
       "      <th>0</th>\n",
       "      <th>1448</th>\n",
       "      <th>Office</th>\n",
       "      <th>5</th>\n",
       "      <th>9</th>\n",
       "      <td>NaN</td>\n",
       "      <td>NaN</td>\n",
       "      <td>NaN</td>\n",
       "      <td>NaN</td>\n",
       "      <td>92271.0</td>\n",
       "    </tr>\n",
       "  </tbody>\n",
       "</table>\n",
       "<p>41697600 rows × 5 columns</p>\n",
       "</div>\n",
       "      <button class=\"colab-df-convert\" onclick=\"convertToInteractive('df-b7985b78-882c-4dd4-b60e-762b89e81d0b')\"\n",
       "              title=\"Convert this dataframe to an interactive table.\"\n",
       "              style=\"display:none;\">\n",
       "        \n",
       "  <svg xmlns=\"http://www.w3.org/2000/svg\" height=\"24px\"viewBox=\"0 0 24 24\"\n",
       "       width=\"24px\">\n",
       "    <path d=\"M0 0h24v24H0V0z\" fill=\"none\"/>\n",
       "    <path d=\"M18.56 5.44l.94 2.06.94-2.06 2.06-.94-2.06-.94-.94-2.06-.94 2.06-2.06.94zm-11 1L8.5 8.5l.94-2.06 2.06-.94-2.06-.94L8.5 2.5l-.94 2.06-2.06.94zm10 10l.94 2.06.94-2.06 2.06-.94-2.06-.94-.94-2.06-.94 2.06-2.06.94z\"/><path d=\"M17.41 7.96l-1.37-1.37c-.4-.4-.92-.59-1.43-.59-.52 0-1.04.2-1.43.59L10.3 9.45l-7.72 7.72c-.78.78-.78 2.05 0 2.83L4 21.41c.39.39.9.59 1.41.59.51 0 1.02-.2 1.41-.59l7.78-7.78 2.81-2.81c.8-.78.8-2.07 0-2.86zM5.41 20L4 18.59l7.72-7.72 1.47 1.35L5.41 20z\"/>\n",
       "  </svg>\n",
       "      </button>\n",
       "      \n",
       "  <style>\n",
       "    .colab-df-container {\n",
       "      display:flex;\n",
       "      flex-wrap:wrap;\n",
       "      gap: 12px;\n",
       "    }\n",
       "\n",
       "    .colab-df-convert {\n",
       "      background-color: #E8F0FE;\n",
       "      border: none;\n",
       "      border-radius: 50%;\n",
       "      cursor: pointer;\n",
       "      display: none;\n",
       "      fill: #1967D2;\n",
       "      height: 32px;\n",
       "      padding: 0 0 0 0;\n",
       "      width: 32px;\n",
       "    }\n",
       "\n",
       "    .colab-df-convert:hover {\n",
       "      background-color: #E2EBFA;\n",
       "      box-shadow: 0px 1px 2px rgba(60, 64, 67, 0.3), 0px 1px 3px 1px rgba(60, 64, 67, 0.15);\n",
       "      fill: #174EA6;\n",
       "    }\n",
       "\n",
       "    [theme=dark] .colab-df-convert {\n",
       "      background-color: #3B4455;\n",
       "      fill: #D2E3FC;\n",
       "    }\n",
       "\n",
       "    [theme=dark] .colab-df-convert:hover {\n",
       "      background-color: #434B5C;\n",
       "      box-shadow: 0px 1px 3px 1px rgba(0, 0, 0, 0.15);\n",
       "      filter: drop-shadow(0px 1px 2px rgba(0, 0, 0, 0.3));\n",
       "      fill: #FFFFFF;\n",
       "    }\n",
       "  </style>\n",
       "\n",
       "      <script>\n",
       "        const buttonEl =\n",
       "          document.querySelector('#df-b7985b78-882c-4dd4-b60e-762b89e81d0b button.colab-df-convert');\n",
       "        buttonEl.style.display =\n",
       "          google.colab.kernel.accessAllowed ? 'block' : 'none';\n",
       "\n",
       "        async function convertToInteractive(key) {\n",
       "          const element = document.querySelector('#df-b7985b78-882c-4dd4-b60e-762b89e81d0b');\n",
       "          const dataTable =\n",
       "            await google.colab.kernel.invokeFunction('convertToInteractive',\n",
       "                                                     [key], {});\n",
       "          if (!dataTable) return;\n",
       "\n",
       "          const docLinkHtml = 'Like what you see? Visit the ' +\n",
       "            '<a target=\"_blank\" href=https://colab.research.google.com/notebooks/data_table.ipynb>data table notebook</a>'\n",
       "            + ' to learn more about interactive tables.';\n",
       "          element.innerHTML = '';\n",
       "          dataTable['output_type'] = 'display_data';\n",
       "          await google.colab.output.renderOutput(dataTable, element);\n",
       "          const docLink = document.createElement('div');\n",
       "          docLink.innerHTML = docLinkHtml;\n",
       "          element.appendChild(docLink);\n",
       "        }\n",
       "      </script>\n",
       "    </div>\n",
       "  </div>\n",
       "  "
      ],
      "text/plain": [
       "                                                                    air_temperature  \\\n",
       "row_id   meter building_id primary_use                   month day                    \n",
       "0        0     0           Education                     1     1          17.796875   \n",
       "1        0     1           Education                     1     1          17.796875   \n",
       "2        0     2           Education                     1     1          17.796875   \n",
       "3        0     3           Education                     1     1          17.796875   \n",
       "4        0     4           Education                     1     1          17.796875   \n",
       "...                                                                             ...   \n",
       "41697595 0     1444        Entertainment/public assembly 5     9                NaN   \n",
       "41697596 0     1445        Education                     5     9                NaN   \n",
       "41697597 0     1446        Entertainment/public assembly 5     9                NaN   \n",
       "41697598 0     1447        Lodging/residential           5     9                NaN   \n",
       "41697599 0     1448        Office                        5     9                NaN   \n",
       "\n",
       "                                                                    wind_speed  \\\n",
       "row_id   meter building_id primary_use                   month day               \n",
       "0        0     0           Education                     1     1      3.599609   \n",
       "1        0     1           Education                     1     1      3.599609   \n",
       "2        0     2           Education                     1     1      3.599609   \n",
       "3        0     3           Education                     1     1      3.599609   \n",
       "4        0     4           Education                     1     1      3.599609   \n",
       "...                                                                        ...   \n",
       "41697595 0     1444        Entertainment/public assembly 5     9           NaN   \n",
       "41697596 0     1445        Education                     5     9           NaN   \n",
       "41697597 0     1446        Entertainment/public assembly 5     9           NaN   \n",
       "41697598 0     1447        Lodging/residential           5     9           NaN   \n",
       "41697599 0     1448        Office                        5     9           NaN   \n",
       "\n",
       "                                                                    precip_depth_1_hr  \\\n",
       "row_id   meter building_id primary_use                   month day                      \n",
       "0        0     0           Education                     1     1                  NaN   \n",
       "1        0     1           Education                     1     1                  NaN   \n",
       "2        0     2           Education                     1     1                  NaN   \n",
       "3        0     3           Education                     1     1                  NaN   \n",
       "4        0     4           Education                     1     1                  NaN   \n",
       "...                                                                               ...   \n",
       "41697595 0     1444        Entertainment/public assembly 5     9                  NaN   \n",
       "41697596 0     1445        Education                     5     9                  NaN   \n",
       "41697597 0     1446        Entertainment/public assembly 5     9                  NaN   \n",
       "41697598 0     1447        Lodging/residential           5     9                  NaN   \n",
       "41697599 0     1448        Office                        5     9                  NaN   \n",
       "\n",
       "                                                                    cloud_coverage  \\\n",
       "row_id   meter building_id primary_use                   month day                   \n",
       "0        0     0           Education                     1     1               4.0   \n",
       "1        0     1           Education                     1     1               4.0   \n",
       "2        0     2           Education                     1     1               4.0   \n",
       "3        0     3           Education                     1     1               4.0   \n",
       "4        0     4           Education                     1     1               4.0   \n",
       "...                                                                            ...   \n",
       "41697595 0     1444        Entertainment/public assembly 5     9               NaN   \n",
       "41697596 0     1445        Education                     5     9               NaN   \n",
       "41697597 0     1446        Entertainment/public assembly 5     9               NaN   \n",
       "41697598 0     1447        Lodging/residential           5     9               NaN   \n",
       "41697599 0     1448        Office                        5     9               NaN   \n",
       "\n",
       "                                                                    square_feet  \n",
       "row_id   meter building_id primary_use                   month day               \n",
       "0        0     0           Education                     1     1         7432.0  \n",
       "1        0     1           Education                     1     1         2720.0  \n",
       "2        0     2           Education                     1     1         5376.0  \n",
       "3        0     3           Education                     1     1        23685.0  \n",
       "4        0     4           Education                     1     1       116607.0  \n",
       "...                                                                         ...  \n",
       "41697595 0     1444        Entertainment/public assembly 5     9        19619.0  \n",
       "41697596 0     1445        Education                     5     9         4298.0  \n",
       "41697597 0     1446        Entertainment/public assembly 5     9        11265.0  \n",
       "41697598 0     1447        Lodging/residential           5     9        29775.0  \n",
       "41697599 0     1448        Office                        5     9        92271.0  \n",
       "\n",
       "[41697600 rows x 5 columns]"
      ]
     },
     "execution_count": 10,
     "metadata": {},
     "output_type": "execute_result"
    }
   ],
   "source": [
    "test_df"
   ]
  },
  {
   "cell_type": "code",
   "execution_count": null,
   "metadata": {
    "id": "tYluxE55Y7Fi"
   },
   "outputs": [],
   "source": [
    "train_df1 = train_df1.reset_index()"
   ]
  },
  {
   "cell_type": "code",
   "execution_count": null,
   "metadata": {
    "id": "DWDU86KqsI8p"
   },
   "outputs": [],
   "source": [
    "test_df = test_df.reset_index()"
   ]
  },
  {
   "cell_type": "code",
   "execution_count": null,
   "metadata": {
    "id": "FSdj5ngsZB5p"
   },
   "outputs": [],
   "source": [
    "#Code below changes the type of the features to 'float32'\n",
    "\n",
    "train_df1['wind_speed'] = train_df1['wind_speed'].astype('float32')\n",
    "train_df1['air_temperature'] = train_df1['air_temperature'].astype('float32')\n",
    "train_df1['precip_depth_1_hr'] = train_df1['precip_depth_1_hr'].astype('float32')"
   ]
  },
  {
   "cell_type": "code",
   "execution_count": null,
   "metadata": {
    "id": "7XbRCB1gsNF1"
   },
   "outputs": [],
   "source": [
    "test_df['wind_speed'] = test_df['wind_speed'].astype('float32')\n",
    "test_df['air_temperature'] = test_df['air_temperature'].astype('float32')\n",
    "test_df['precip_depth_1_hr'] = test_df['precip_depth_1_hr'].astype('float32')"
   ]
  },
  {
   "cell_type": "code",
   "execution_count": null,
   "metadata": {
    "id": "37cwkyysZIld"
   },
   "outputs": [],
   "source": [
    "# NaN Treatment\n",
    "\n",
    "train_df1['wind_speed'].fillna(train_df1['wind_speed'].mean(), inplace=True)\n",
    "train_df1['precip_depth_1_hr'].fillna(train_df1['precip_depth_1_hr'].mean(), inplace=True)\n",
    "train_df1['air_temperature'].fillna(train_df1['air_temperature'].mean(), inplace=True)\n",
    "train_df1['cloud_coverage'].fillna(train_df1['cloud_coverage'].median(), inplace=True)\n",
    "train_df1['square_feet'].fillna(train_df1['square_feet'].median(), inplace=True)"
   ]
  },
  {
   "cell_type": "code",
   "execution_count": null,
   "metadata": {
    "id": "yUZAiq-FsQP3"
   },
   "outputs": [],
   "source": [
    "test_df['precip_depth_1_hr'].fillna(test_df['precip_depth_1_hr'].mean(), inplace=True)\n",
    "test_df['wind_speed'].fillna(test_df['wind_speed'].mean(), inplace=True)\n",
    "test_df['air_temperature'].fillna(test_df['air_temperature'].mean(), inplace=True)\n",
    "test_df['cloud_coverage'].fillna(test_df['cloud_coverage'].median(), inplace=True)\n",
    "test_df['square_feet'].fillna(test_df['square_feet'].median(), inplace=True)"
   ]
  },
  {
   "cell_type": "code",
   "execution_count": null,
   "metadata": {
    "colab": {
     "base_uri": "https://localhost:8080/"
    },
    "id": "WdsIGBSjZQbR",
    "outputId": "7df1c8f2-2717-4e49-e499-22d993e0a13b"
   },
   "outputs": [
    {
     "data": {
      "text/plain": [
       "meter                0\n",
       "building_id          0\n",
       "primary_use          0\n",
       "month                0\n",
       "day                  0\n",
       "meter_reading        0\n",
       "air_temperature      0\n",
       "wind_speed           0\n",
       "precip_depth_1_hr    0\n",
       "cloud_coverage       0\n",
       "square_feet          0\n",
       "dtype: int64"
      ]
     },
     "execution_count": 18,
     "metadata": {},
     "output_type": "execute_result"
    }
   ],
   "source": [
    "train_df1.isnull().sum()"
   ]
  },
  {
   "cell_type": "code",
   "execution_count": null,
   "metadata": {
    "colab": {
     "base_uri": "https://localhost:8080/"
    },
    "id": "N58WMySiZUhy",
    "outputId": "46a125e7-0a54-4981-e624-96dce6018412"
   },
   "outputs": [
    {
     "data": {
      "text/plain": [
       "row_id               0\n",
       "meter                0\n",
       "building_id          0\n",
       "primary_use          0\n",
       "month                0\n",
       "day                  0\n",
       "air_temperature      0\n",
       "wind_speed           0\n",
       "precip_depth_1_hr    0\n",
       "cloud_coverage       0\n",
       "square_feet          0\n",
       "dtype: int64"
      ]
     },
     "execution_count": 6,
     "metadata": {},
     "output_type": "execute_result"
    }
   ],
   "source": [
    "test_df.isnull().sum()"
   ]
  },
  {
   "cell_type": "code",
   "execution_count": null,
   "metadata": {
    "id": "jpHv7xAYZY6z"
   },
   "outputs": [],
   "source": [
    "train1_encoded = train_df1[:]"
   ]
  },
  {
   "cell_type": "code",
   "execution_count": null,
   "metadata": {
    "id": "pJ9hGU4JDX2B"
   },
   "outputs": [],
   "source": [
    "test_encoded = test_df[:]"
   ]
  },
  {
   "cell_type": "code",
   "execution_count": null,
   "metadata": {
    "id": "UGqnlg1SDgaw"
   },
   "outputs": [],
   "source": [
    "from sklearn.preprocessing import LabelEncoder"
   ]
  },
  {
   "cell_type": "code",
   "execution_count": null,
   "metadata": {
    "id": "0AoaVsA3ZpBX"
   },
   "outputs": [],
   "source": [
    "train1_encoded[\"primary_use\"] = LabelEncoder().fit_transform(train1_encoded[\"primary_use\"])"
   ]
  },
  {
   "cell_type": "code",
   "execution_count": null,
   "metadata": {
    "id": "KTwi9CM7DbCk"
   },
   "outputs": [],
   "source": [
    "test_encoded[\"primary_use\"] = LabelEncoder().fit_transform(test_encoded[\"primary_use\"])"
   ]
  },
  {
   "cell_type": "markdown",
   "metadata": {
    "id": "5sTltj8yFYZt",
    "tags": []
   },
   "source": [
    "# Gated Recurrent Unit (GRU) and Prediction for Kaggle Score"
   ]
  },
  {
   "cell_type": "code",
   "execution_count": null,
   "metadata": {
    "id": "_xw971cBG17O"
   },
   "outputs": [],
   "source": [
    "from keras.models import Sequential\n",
    "from keras.layers import Dense, LSTM, Dropout, BatchNormalization\n",
    "from keras.callbacks import EarlyStopping, ModelCheckpoint\n",
    "from keras import backend as K\n",
    "from keras.losses import MSE\n",
    "from sklearn.model_selection  import train_test_split\n",
    "from tensorflow.keras.utils import Sequence\n",
    "from keras.models import Sequential\n",
    "from keras.layers import Dense, Dropout, Flatten, LSTM, Embedding\n",
    "from tensorflow.keras.optimizers import RMSprop,Adam\n",
    "import keras.backend as K\n",
    "import tensorflow as tf"
   ]
  },
  {
   "cell_type": "code",
   "execution_count": null,
   "metadata": {
    "id": "4fDjpggB1o_K"
   },
   "outputs": [],
   "source": [
    "from sklearn import preprocessing\n",
    "from keras import backend as K\n",
    "from keras.callbacks import ModelCheckpoint, EarlyStopping\n",
    "from keras.layers import Dense, LSTM, GRU, Dropout, BatchNormalization\n",
    "from keras.models import Sequential\n",
    "from keras.layers import SimpleRNN\n",
    "from keras import regularizers\n",
    "from tensorflow import keras"
   ]
  },
  {
   "cell_type": "code",
   "execution_count": null,
   "metadata": {
    "id": "DQJU3uHWacT_"
   },
   "outputs": [],
   "source": [
    "X1 = train1_encoded[['meter', 'building_id', 'primary_use', 'month', 'day','air_temperature', 'wind_speed', 'precip_depth_1_hr', 'cloud_coverage',\n",
    "       'square_feet']]\n",
    "y1 = train1_encoded['meter_reading']"
   ]
  },
  {
   "cell_type": "code",
   "execution_count": null,
   "metadata": {
    "id": "34hPayPWay1h"
   },
   "outputs": [],
   "source": [
    "x_train1, x_val1, y_train1, y_val1 = train_test_split(X1,y1, test_size = 0.2, random_state= 45)"
   ]
  },
  {
   "cell_type": "code",
   "execution_count": null,
   "metadata": {
    "id": "Xcgsfa_cbMG-"
   },
   "outputs": [],
   "source": [
    "from sklearn.metrics import mean_squared_log_error\n",
    "\n",
    "def root_mean_squared_error(y_true, y_pred):\n",
    "  return K.sqrt(K.mean(K.square(y_pred - y_true)))"
   ]
  },
  {
   "cell_type": "code",
   "execution_count": null,
   "metadata": {
    "id": "SrUprOGrbZXQ"
   },
   "outputs": [],
   "source": [
    "# The following function reshapes the data and applies the log transormation to traget feature 'meter_reading' \n",
    "# since during T1 we were able to deduce that it was heavily skewed.\n",
    "\n",
    "def transform(x_train,y_train,epochs=50,batch_size=500,verbose=1,validation_data=(x_val1,y_val1),callbacks =None):\n",
    "  x_train = x_train.values[:]\n",
    "  x_train= x_train.reshape((x_train.shape[0],1,x_train.shape[-1]))\n",
    "  y_train = np.log1p(y_train) # log tran\n",
    "  if validation_data != None:\n",
    "    x_val = validation_data[0].values[:]\n",
    "    x_val = x_val.reshape((x_val.shape[0],1,x_val.shape[-1]))\n",
    "    y_val = np.log1p(validation_data[-1]) # log tran  \n",
    "  return x_train,y_train,x_val,y_val"
   ]
  },
  {
   "cell_type": "code",
   "execution_count": null,
   "metadata": {
    "id": "_FmCnWX4b22y"
   },
   "outputs": [],
   "source": [
    "Early_stop = EarlyStopping(monitor='val_root_mean_squared_error', min_delta=0.0001, patience=5, verbose=True, mode='auto')"
   ]
  },
  {
   "cell_type": "code",
   "execution_count": null,
   "metadata": {
    "colab": {
     "base_uri": "https://localhost:8080/"
    },
    "id": "u__9k8RxHb15",
    "outputId": "d2582c0b-99d8-4615-a759-4fd25f064e8d"
   },
   "outputs": [
    {
     "data": {
      "text/plain": [
       "10"
      ]
     },
     "execution_count": 29,
     "metadata": {},
     "output_type": "execute_result"
    }
   ],
   "source": [
    "input_dim=x_train1.shape[-1]\n",
    "input_dim"
   ]
  },
  {
   "cell_type": "code",
   "execution_count": null,
   "metadata": {
    "colab": {
     "base_uri": "https://localhost:8080/"
    },
    "id": "nHcv0XLrcdBK",
    "outputId": "6f58c10c-b69b-4367-8012-6070356800b7"
   },
   "outputs": [
    {
     "name": "stdout",
     "output_type": "stream",
     "text": [
      "Epoch 1/30\n",
      "32021/32021 [==============================] - 700s 22ms/step - loss: 1.1692 - root_mean_squared_error: 1.0644 - accuracy: 0.9777 - val_loss: 1.1794 - val_root_mean_squared_error: 1.0686 - val_accuracy: 0.9805\n",
      "Epoch 2/30\n",
      "32021/32021 [==============================] - 838s 26ms/step - loss: 1.1814 - root_mean_squared_error: 1.0701 - accuracy: 0.9805 - val_loss: 1.1793 - val_root_mean_squared_error: 1.0686 - val_accuracy: 0.9805\n",
      "Epoch 3/30\n",
      "32021/32021 [==============================] - 749s 23ms/step - loss: 1.1814 - root_mean_squared_error: 1.0702 - accuracy: 0.9805 - val_loss: 1.1794 - val_root_mean_squared_error: 1.0686 - val_accuracy: 0.9805\n",
      "Epoch 4/30\n",
      "32021/32021 [==============================] - 779s 24ms/step - loss: 1.1814 - root_mean_squared_error: 1.0700 - accuracy: 0.9805 - val_loss: 1.1793 - val_root_mean_squared_error: 1.0688 - val_accuracy: 0.9805\n",
      "Epoch 5/30\n",
      "32021/32021 [==============================] - 754s 24ms/step - loss: 1.1814 - root_mean_squared_error: 1.0701 - accuracy: 0.9805 - val_loss: 1.1794 - val_root_mean_squared_error: 1.0688 - val_accuracy: 0.9805\n",
      "Epoch 6/30\n",
      "32021/32021 [==============================] - 706s 22ms/step - loss: 1.1814 - root_mean_squared_error: 1.0701 - accuracy: 0.9805 - val_loss: 1.1793 - val_root_mean_squared_error: 1.0687 - val_accuracy: 0.9805\n",
      "Epoch 6: early stopping\n"
     ]
    },
    {
     "data": {
      "text/plain": [
       "<keras.callbacks.History at 0x7f8190e4c050>"
      ]
     },
     "execution_count": 30,
     "metadata": {},
     "output_type": "execute_result"
    }
   ],
   "source": [
    "model = Sequential()\n",
    "model.add(GRU(128,return_sequences=True, input_shape=(None,10)))\n",
    "model.add(Dropout(0.2))\n",
    "model.add(BatchNormalization())\n",
    "model.add(GRU(128,return_sequences=False))\n",
    "model.add(BatchNormalization())\n",
    "model.add(Dropout(0.2))\n",
    "model.add(Dense(1))\n",
    "model.compile(optimizer=\"rmsprop\", loss=\"mse\", metrics=[root_mean_squared_error, 'accuracy'])\n",
    "x_train,y_train,x_val,y_val = transform(x_train1,y_train1,epochs=30,batch_size=500,verbose=1,validation_data=(x_val1,y_val1), callbacks =[Early_stop])\n",
    "model.fit(x_train,y_train,epochs=30,batch_size=500,verbose=1,validation_data=(x_val,y_val),callbacks=Early_stop)"
   ]
  },
  {
   "cell_type": "code",
   "execution_count": null,
   "metadata": {
    "colab": {
     "base_uri": "https://localhost:8080/"
    },
    "id": "TPQpkpmrCd7c",
    "outputId": "2c18e86a-76fa-4fe8-da47-8b0c59548586"
   },
   "outputs": [
    {
     "name": "stderr",
     "output_type": "stream",
     "text": [
      "WARNING:absl:Found untraced functions such as gru_cell_layer_call_fn, gru_cell_layer_call_and_return_conditional_losses, gru_cell_1_layer_call_fn, gru_cell_1_layer_call_and_return_conditional_losses while saving (showing 4 of 4). These functions will not be directly callable after loading.\n"
     ]
    },
    {
     "name": "stdout",
     "output_type": "stream",
     "text": [
      "INFO:tensorflow:Assets written to: GRU/assets\n"
     ]
    },
    {
     "name": "stderr",
     "output_type": "stream",
     "text": [
      "INFO:tensorflow:Assets written to: GRU/assets\n",
      "WARNING:absl:<keras.layers.recurrent.GRUCell object at 0x7f81972b2550> has the same name 'GRUCell' as a built-in Keras object. Consider renaming <class 'keras.layers.recurrent.GRUCell'> to avoid naming conflicts when loading with `tf.keras.models.load_model`. If renaming is not possible, pass the object in the `custom_objects` parameter of the load function.\n",
      "WARNING:absl:<keras.layers.recurrent.GRUCell object at 0x7f8197275790> has the same name 'GRUCell' as a built-in Keras object. Consider renaming <class 'keras.layers.recurrent.GRUCell'> to avoid naming conflicts when loading with `tf.keras.models.load_model`. If renaming is not possible, pass the object in the `custom_objects` parameter of the load function.\n"
     ]
    }
   ],
   "source": [
    "model.save('GRU')"
   ]
  },
  {
   "cell_type": "code",
   "execution_count": null,
   "metadata": {
    "id": "oGv_A85fG0TF"
   },
   "outputs": [],
   "source": [
    "model = keras.models.load_model(\"/content/GRU.h5\", custom_objects={\"root_mean_squared_error\": root_mean_squared_error })"
   ]
  },
  {
   "cell_type": "markdown",
   "metadata": {
    "id": "cCKFTUXrBDPl"
   },
   "source": [
    "## Test Set Prediction (kaggle)"
   ]
  },
  {
   "cell_type": "code",
   "execution_count": null,
   "metadata": {
    "id": "XJGvmdDRmcB1"
   },
   "outputs": [],
   "source": [
    "submit = pd.read_csv('/content/drive/MyDrive/energy_dataset/sample_submission.csv')\n",
    "test_X = test_encoded[['meter', 'building_id', 'primary_use', 'month', 'day','air_temperature', 'wind_speed', 'precip_depth_1_hr', 'cloud_coverage','square_feet']]"
   ]
  },
  {
   "cell_type": "code",
   "execution_count": null,
   "metadata": {
    "id": "oJtpk8AGaLMK"
   },
   "outputs": [],
   "source": [
    "test_X = test_X.values[:]"
   ]
  },
  {
   "cell_type": "code",
   "execution_count": null,
   "metadata": {
    "id": "bn3vfetWZuYU"
   },
   "outputs": [],
   "source": [
    "test_X = test_X.reshape((test_X.shape[0],1,test_X.shape[-1]))"
   ]
  },
  {
   "cell_type": "code",
   "execution_count": null,
   "metadata": {
    "id": "Gn5GUdc0LoEf"
   },
   "outputs": [],
   "source": [
    "prediction = model.predict(test_X)"
   ]
  },
  {
   "cell_type": "code",
   "execution_count": null,
   "metadata": {
    "id": "4MImORTALrV5"
   },
   "outputs": [],
   "source": [
    "prediction = np.expm1(prediction)\n",
    "submit['meter_reading'] = prediction\n",
    "submit.to_csv('submission.csv', index=False,float_format='%.4f')"
   ]
  }
 ],
 "metadata": {
  "colab": {
   "collapsed_sections": [
    "-FKXs5i8lQ6o",
    "0SmAJiAtaXy6",
    "cCKFTUXrBDPl"
   ],
   "machine_shape": "hm",
   "name": "ML_CW2_G20_Test_Code_neural_networks _kaggle.ipynb",
   "provenance": []
  },
  "kernelspec": {
   "display_name": "Python 3 (ipykernel)",
   "language": "python",
   "name": "python3"
  },
  "language_info": {
   "codemirror_mode": {
    "name": "ipython",
    "version": 3
   },
   "file_extension": ".py",
   "mimetype": "text/x-python",
   "name": "python",
   "nbconvert_exporter": "python",
   "pygments_lexer": "ipython3",
   "version": "3.9.6"
  }
 },
 "nbformat": 4,
 "nbformat_minor": 4
}
