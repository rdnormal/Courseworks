{
 "cells": [
  {
   "cell_type": "code",
   "execution_count": 1,
   "id": "1b0af82f",
   "metadata": {
    "_cell_guid": "b1076dfc-b9ad-4769-8c92-a6c4dae69d19",
    "_uuid": "8f2839f25d086af736a60e9eeb907d3b93b6e0e5",
    "execution": {
     "iopub.execute_input": "2022-03-10T16:53:29.106488Z",
     "iopub.status.busy": "2022-03-10T16:53:29.104457Z",
     "iopub.status.idle": "2022-03-10T16:53:29.118922Z",
     "shell.execute_reply": "2022-03-10T16:53:29.118215Z"
    },
    "papermill": {
     "duration": 0.026454,
     "end_time": "2022-03-10T16:53:29.119106",
     "exception": false,
     "start_time": "2022-03-10T16:53:29.092652",
     "status": "completed"
    },
    "tags": []
   },
   "outputs": [
    {
     "name": "stdout",
     "output_type": "stream",
     "text": [
      "/kaggle/input/ashrae-energy-prediction/sample_submission.csv\n",
      "/kaggle/input/ashrae-energy-prediction/building_metadata.csv\n",
      "/kaggle/input/ashrae-energy-prediction/weather_train.csv\n",
      "/kaggle/input/ashrae-energy-prediction/weather_test.csv\n",
      "/kaggle/input/ashrae-energy-prediction/train.csv\n",
      "/kaggle/input/ashrae-energy-prediction/test.csv\n"
     ]
    }
   ],
   "source": [
    "# This Python 3 environment comes with many helpful analytics libraries installed\n",
    "# It is defined by the kaggle/python Docker image: https://github.com/kaggle/docker-python\n",
    "# For example, here's several helpful packages to load\n",
    "\n",
    "import numpy as np # linear algebra\n",
    "import pandas as pd # data processing, CSV file I/O (e.g. pd.read_csv)\n",
    "\n",
    "# Input data files are available in the read-only \"../input/\" directory\n",
    "# For example, running this (by clicking run or pressing Shift+Enter) will list all files under the input directory\n",
    "\n",
    "import os\n",
    "for dirname, _, filenames in os.walk('/kaggle/input'):\n",
    "    for filename in filenames:\n",
    "        print(os.path.join(dirname, filename))\n",
    "\n",
    "# You can write up to 20GB to the current directory (/kaggle/working/) that gets preserved as output when you create a version using \"Save & Run All\" \n",
    "# You can also write temporary files to /kaggle/temp/, but they won't be saved outside of the current session"
   ]
  },
  {
   "cell_type": "markdown",
   "id": "a3734e3e",
   "metadata": {
    "papermill": {
     "duration": 0.005888,
     "end_time": "2022-03-10T16:53:29.132493",
     "exception": false,
     "start_time": "2022-03-10T16:53:29.126605",
     "status": "completed"
    },
    "tags": []
   },
   "source": [
    "merge 3 training dataset into 1 df "
   ]
  },
  {
   "cell_type": "code",
   "execution_count": 2,
   "id": "4b3d9d12",
   "metadata": {
    "execution": {
     "iopub.execute_input": "2022-03-10T16:53:29.147398Z",
     "iopub.status.busy": "2022-03-10T16:53:29.146843Z",
     "iopub.status.idle": "2022-03-10T16:53:42.395163Z",
     "shell.execute_reply": "2022-03-10T16:53:42.394592Z"
    },
    "papermill": {
     "duration": 13.256799,
     "end_time": "2022-03-10T16:53:42.395316",
     "exception": false,
     "start_time": "2022-03-10T16:53:29.138517",
     "status": "completed"
    },
    "tags": []
   },
   "outputs": [],
   "source": [
    "train_df = pd.read_csv('../input/ashrae-energy-prediction/train.csv')\n",
    "building_df = pd.read_csv('../input/ashrae-energy-prediction/building_metadata.csv')\n",
    "weather_train_df = pd.read_csv('../input/ashrae-energy-prediction/weather_train.csv')"
   ]
  },
  {
   "cell_type": "code",
   "execution_count": 3,
   "id": "25beccd7",
   "metadata": {
    "execution": {
     "iopub.execute_input": "2022-03-10T16:53:42.420899Z",
     "iopub.status.busy": "2022-03-10T16:53:42.420259Z",
     "iopub.status.idle": "2022-03-10T16:53:42.435676Z",
     "shell.execute_reply": "2022-03-10T16:53:42.435202Z"
    },
    "papermill": {
     "duration": 0.034127,
     "end_time": "2022-03-10T16:53:42.435822",
     "exception": false,
     "start_time": "2022-03-10T16:53:42.401695",
     "status": "completed"
    },
    "tags": []
   },
   "outputs": [
    {
     "name": "stdout",
     "output_type": "stream",
     "text": [
      "<class 'pandas.core.frame.DataFrame'>\n",
      "RangeIndex: 20216100 entries, 0 to 20216099\n",
      "Data columns (total 4 columns):\n",
      " #   Column         Dtype  \n",
      "---  ------         -----  \n",
      " 0   building_id    int64  \n",
      " 1   meter          int64  \n",
      " 2   timestamp      object \n",
      " 3   meter_reading  float64\n",
      "dtypes: float64(1), int64(2), object(1)\n",
      "memory usage: 616.9+ MB\n"
     ]
    }
   ],
   "source": [
    "train_df.info()"
   ]
  },
  {
   "cell_type": "code",
   "execution_count": 4,
   "id": "eeb53641",
   "metadata": {
    "execution": {
     "iopub.execute_input": "2022-03-10T16:53:42.455429Z",
     "iopub.status.busy": "2022-03-10T16:53:42.454540Z",
     "iopub.status.idle": "2022-03-10T16:53:42.467088Z",
     "shell.execute_reply": "2022-03-10T16:53:42.467523Z"
    },
    "papermill": {
     "duration": 0.025276,
     "end_time": "2022-03-10T16:53:42.467681",
     "exception": false,
     "start_time": "2022-03-10T16:53:42.442405",
     "status": "completed"
    },
    "tags": []
   },
   "outputs": [
    {
     "data": {
      "text/html": [
       "<div>\n",
       "<style scoped>\n",
       "    .dataframe tbody tr th:only-of-type {\n",
       "        vertical-align: middle;\n",
       "    }\n",
       "\n",
       "    .dataframe tbody tr th {\n",
       "        vertical-align: top;\n",
       "    }\n",
       "\n",
       "    .dataframe thead th {\n",
       "        text-align: right;\n",
       "    }\n",
       "</style>\n",
       "<table border=\"1\" class=\"dataframe\">\n",
       "  <thead>\n",
       "    <tr style=\"text-align: right;\">\n",
       "      <th></th>\n",
       "      <th>building_id</th>\n",
       "      <th>meter</th>\n",
       "      <th>timestamp</th>\n",
       "      <th>meter_reading</th>\n",
       "    </tr>\n",
       "  </thead>\n",
       "  <tbody>\n",
       "    <tr>\n",
       "      <th>0</th>\n",
       "      <td>0</td>\n",
       "      <td>0</td>\n",
       "      <td>2016-01-01 00:00:00</td>\n",
       "      <td>0.0</td>\n",
       "    </tr>\n",
       "    <tr>\n",
       "      <th>1</th>\n",
       "      <td>1</td>\n",
       "      <td>0</td>\n",
       "      <td>2016-01-01 00:00:00</td>\n",
       "      <td>0.0</td>\n",
       "    </tr>\n",
       "    <tr>\n",
       "      <th>2</th>\n",
       "      <td>2</td>\n",
       "      <td>0</td>\n",
       "      <td>2016-01-01 00:00:00</td>\n",
       "      <td>0.0</td>\n",
       "    </tr>\n",
       "    <tr>\n",
       "      <th>3</th>\n",
       "      <td>3</td>\n",
       "      <td>0</td>\n",
       "      <td>2016-01-01 00:00:00</td>\n",
       "      <td>0.0</td>\n",
       "    </tr>\n",
       "    <tr>\n",
       "      <th>4</th>\n",
       "      <td>4</td>\n",
       "      <td>0</td>\n",
       "      <td>2016-01-01 00:00:00</td>\n",
       "      <td>0.0</td>\n",
       "    </tr>\n",
       "  </tbody>\n",
       "</table>\n",
       "</div>"
      ],
      "text/plain": [
       "   building_id  meter            timestamp  meter_reading\n",
       "0            0      0  2016-01-01 00:00:00            0.0\n",
       "1            1      0  2016-01-01 00:00:00            0.0\n",
       "2            2      0  2016-01-01 00:00:00            0.0\n",
       "3            3      0  2016-01-01 00:00:00            0.0\n",
       "4            4      0  2016-01-01 00:00:00            0.0"
      ]
     },
     "execution_count": 4,
     "metadata": {},
     "output_type": "execute_result"
    }
   ],
   "source": [
    "train_df.head()"
   ]
  },
  {
   "cell_type": "code",
   "execution_count": 5,
   "id": "9d17f725",
   "metadata": {
    "execution": {
     "iopub.execute_input": "2022-03-10T16:53:42.488133Z",
     "iopub.status.busy": "2022-03-10T16:53:42.487190Z",
     "iopub.status.idle": "2022-03-10T16:53:42.505091Z",
     "shell.execute_reply": "2022-03-10T16:53:42.505634Z"
    },
    "papermill": {
     "duration": 0.031149,
     "end_time": "2022-03-10T16:53:42.505830",
     "exception": false,
     "start_time": "2022-03-10T16:53:42.474681",
     "status": "completed"
    },
    "tags": []
   },
   "outputs": [
    {
     "name": "stdout",
     "output_type": "stream",
     "text": [
      "<class 'pandas.core.frame.DataFrame'>\n",
      "RangeIndex: 139773 entries, 0 to 139772\n",
      "Data columns (total 9 columns):\n",
      " #   Column              Non-Null Count   Dtype  \n",
      "---  ------              --------------   -----  \n",
      " 0   site_id             139773 non-null  int64  \n",
      " 1   timestamp           139773 non-null  object \n",
      " 2   air_temperature     139718 non-null  float64\n",
      " 3   cloud_coverage      70600 non-null   float64\n",
      " 4   dew_temperature     139660 non-null  float64\n",
      " 5   precip_depth_1_hr   89484 non-null   float64\n",
      " 6   sea_level_pressure  129155 non-null  float64\n",
      " 7   wind_direction      133505 non-null  float64\n",
      " 8   wind_speed          139469 non-null  float64\n",
      "dtypes: float64(7), int64(1), object(1)\n",
      "memory usage: 9.6+ MB\n"
     ]
    }
   ],
   "source": [
    "weather_train_df.info()"
   ]
  },
  {
   "cell_type": "code",
   "execution_count": 6,
   "id": "67e9cccb",
   "metadata": {
    "execution": {
     "iopub.execute_input": "2022-03-10T16:53:42.526448Z",
     "iopub.status.busy": "2022-03-10T16:53:42.525553Z",
     "iopub.status.idle": "2022-03-10T16:53:42.529231Z",
     "shell.execute_reply": "2022-03-10T16:53:42.528668Z",
     "shell.execute_reply.started": "2022-03-10T16:45:10.286321Z"
    },
    "papermill": {
     "duration": 0.015998,
     "end_time": "2022-03-10T16:53:42.529358",
     "exception": false,
     "start_time": "2022-03-10T16:53:42.513360",
     "status": "completed"
    },
    "tags": []
   },
   "outputs": [
    {
     "data": {
      "text/plain": [
       "2"
      ]
     },
     "execution_count": 6,
     "metadata": {},
     "output_type": "execute_result"
    }
   ],
   "source": [
    "1+1"
   ]
  }
 ],
 "metadata": {
  "kernelspec": {
   "display_name": "Python 3",
   "language": "python",
   "name": "python3"
  },
  "language_info": {
   "codemirror_mode": {
    "name": "ipython",
    "version": 3
   },
   "file_extension": ".py",
   "mimetype": "text/x-python",
   "name": "python",
   "nbconvert_exporter": "python",
   "pygments_lexer": "ipython3",
   "version": "3.7.12"
  },
  "papermill": {
   "default_parameters": {},
   "duration": 22.878594,
   "end_time": "2022-03-10T16:53:43.146775",
   "environment_variables": {},
   "exception": null,
   "input_path": "__notebook__.ipynb",
   "output_path": "__notebook__.ipynb",
   "parameters": {},
   "start_time": "2022-03-10T16:53:20.268181",
   "version": "2.3.3"
  }
 },
 "nbformat": 4,
 "nbformat_minor": 5
}
