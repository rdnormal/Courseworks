{
 "cells": [
  {
   "cell_type": "code",
   "execution_count": 1,
   "id": "3fc4600a",
   "metadata": {
    "_cell_guid": "b1076dfc-b9ad-4769-8c92-a6c4dae69d19",
    "_uuid": "8f2839f25d086af736a60e9eeb907d3b93b6e0e5",
    "execution": {
     "iopub.execute_input": "2022-03-10T22:44:32.575386Z",
     "iopub.status.busy": "2022-03-10T22:44:32.573554Z",
     "iopub.status.idle": "2022-03-10T22:44:34.969301Z",
     "shell.execute_reply": "2022-03-10T22:44:34.970108Z",
     "shell.execute_reply.started": "2022-03-10T21:52:52.327330Z"
    },
    "papermill": {
     "duration": 2.422239,
     "end_time": "2022-03-10T22:44:34.970456",
     "exception": false,
     "start_time": "2022-03-10T22:44:32.548217",
     "status": "completed"
    },
    "tags": []
   },
   "outputs": [
    {
     "name": "stdout",
     "output_type": "stream",
     "text": [
      "/kaggle/input/ashrae-energy-prediction/sample_submission.csv\n",
      "/kaggle/input/ashrae-energy-prediction/building_metadata.csv\n",
      "/kaggle/input/ashrae-energy-prediction/weather_train.csv\n",
      "/kaggle/input/ashrae-energy-prediction/weather_test.csv\n",
      "/kaggle/input/ashrae-energy-prediction/train.csv\n",
      "/kaggle/input/ashrae-energy-prediction/test.csv\n"
     ]
    }
   ],
   "source": [
    "# This Python 3 environment comes with many helpful analytics libraries installed\n",
    "# It is defined by the kaggle/python Docker image: https://github.com/kaggle/docker-python\n",
    "# For example, here's several helpful packages to load\n",
    "\n",
    "import numpy as np # linear algebra\n",
    "import pandas as pd # data processing, CSV file I/O (e.g. pd.read_csv)\n",
    "import matplotlib.pyplot as plt\n",
    "import seaborn as sns\n",
    "import plotly.express as px\n",
    "# Input data files are available in the read-only \"../input/\" directory\n",
    "# For example, running this (by clicking run or pressing Shift+Enter) will list all files under the input directory\n",
    "\n",
    "import os\n",
    "for dirname, _, filenames in os.walk('/kaggle/input'):\n",
    "    for filename in filenames:\n",
    "        print(os.path.join(dirname, filename))\n",
    "\n",
    "# You can write up to 20GB to the current directory (/kaggle/working/) that gets preserved as output when you create a version using \"Save & Run All\" \n",
    "# You can also write temporary files to /kaggle/temp/, but they won't be saved outside of the current session"
   ]
  },
  {
   "cell_type": "markdown",
   "id": "692eeb22",
   "metadata": {
    "papermill": {
     "duration": 0.019926,
     "end_time": "2022-03-10T22:44:35.011090",
     "exception": false,
     "start_time": "2022-03-10T22:44:34.991164",
     "status": "completed"
    },
    "tags": []
   },
   "source": [
    "# Descriptive analysis of the dataset + Error analysis\n",
    "\n",
    "Thorough and \n",
    "insightful data \n",
    "exploration.\n",
    "Insightful result \n",
    "analysis and \n",
    "discussion."
   ]
  },
  {
   "cell_type": "markdown",
   "id": "d162f110",
   "metadata": {
    "papermill": {
     "duration": 0.019414,
     "end_time": "2022-03-10T22:44:35.050664",
     "exception": false,
     "start_time": "2022-03-10T22:44:35.031250",
     "status": "completed"
    },
    "tags": []
   },
   "source": [
    "## Import the dataset"
   ]
  },
  {
   "cell_type": "code",
   "execution_count": 2,
   "id": "45d1cf1d",
   "metadata": {
    "execution": {
     "iopub.execute_input": "2022-03-10T22:44:35.093649Z",
     "iopub.status.busy": "2022-03-10T22:44:35.092903Z",
     "iopub.status.idle": "2022-03-10T22:44:51.070852Z",
     "shell.execute_reply": "2022-03-10T22:44:51.071391Z",
     "shell.execute_reply.started": "2022-03-10T21:52:54.720528Z"
    },
    "papermill": {
     "duration": 16.001211,
     "end_time": "2022-03-10T22:44:51.071607",
     "exception": false,
     "start_time": "2022-03-10T22:44:35.070396",
     "status": "completed"
    },
    "tags": []
   },
   "outputs": [],
   "source": [
    "# Loading the 3 training dataset\n",
    "train = pd.read_csv('../input/ashrae-energy-prediction/train.csv')\n",
    "building = pd.read_csv('../input/ashrae-energy-prediction/building_metadata.csv')\n",
    "weather_train = pd.read_csv('../input/ashrae-energy-prediction/weather_train.csv')"
   ]
  },
  {
   "cell_type": "code",
   "execution_count": 3,
   "id": "a2d7a97b",
   "metadata": {
    "execution": {
     "iopub.execute_input": "2022-03-10T22:44:51.120451Z",
     "iopub.status.busy": "2022-03-10T22:44:51.119720Z",
     "iopub.status.idle": "2022-03-10T22:45:33.446416Z",
     "shell.execute_reply": "2022-03-10T22:45:33.447242Z",
     "shell.execute_reply.started": "2022-03-10T21:53:09.875731Z"
    },
    "papermill": {
     "duration": 42.355745,
     "end_time": "2022-03-10T22:45:33.447788",
     "exception": false,
     "start_time": "2022-03-10T22:44:51.092043",
     "status": "completed"
    },
    "tags": []
   },
   "outputs": [],
   "source": [
    "# Loading the 2 test dataset\n",
    "\n",
    "test = pd.read_csv('../input/ashrae-energy-prediction/test.csv')\n",
    "weather_test = pd.read_csv('../input/ashrae-energy-prediction/weather_test.csv')"
   ]
  },
  {
   "cell_type": "code",
   "execution_count": 4,
   "id": "32d8728d",
   "metadata": {
    "execution": {
     "iopub.execute_input": "2022-03-10T22:45:33.496974Z",
     "iopub.status.busy": "2022-03-10T22:45:33.495884Z",
     "iopub.status.idle": "2022-03-10T22:45:33.503831Z",
     "shell.execute_reply": "2022-03-10T22:45:33.504483Z",
     "shell.execute_reply.started": "2022-03-10T21:53:39.835049Z"
    },
    "papermill": {
     "duration": 0.033348,
     "end_time": "2022-03-10T22:45:33.504671",
     "exception": false,
     "start_time": "2022-03-10T22:45:33.471323",
     "status": "completed"
    },
    "tags": []
   },
   "outputs": [
    {
     "name": "stdout",
     "output_type": "stream",
     "text": [
      "Shape of train data: (20216100, 4)\n",
      "Shape of weather train data: (139773, 9)\n",
      "Shape of building meta data: (1449, 6)\n",
      "Shape of test data: (41697600, 4)\n",
      "Shape of weather test data: (277243, 9)\n"
     ]
    }
   ],
   "source": [
    "# Shapes of the dataframes\n",
    "\n",
    "print('Shape of train data:',train.shape)\n",
    "print('Shape of weather train data:', weather_train.shape)\n",
    "print('Shape of building meta data:', building.shape)\n",
    "print('Shape of test data:', test.shape)\n",
    "print('Shape of weather test data:', weather_test.shape)"
   ]
  },
  {
   "cell_type": "code",
   "execution_count": 5,
   "id": "af5a26bb",
   "metadata": {
    "_kg_hide-input": false,
    "execution": {
     "iopub.execute_input": "2022-03-10T22:45:33.570227Z",
     "iopub.status.busy": "2022-03-10T22:45:33.569373Z",
     "iopub.status.idle": "2022-03-10T22:45:33.573247Z",
     "shell.execute_reply": "2022-03-10T22:45:33.572661Z",
     "shell.execute_reply.started": "2022-03-10T21:53:39.847177Z"
    },
    "papermill": {
     "duration": 0.047474,
     "end_time": "2022-03-10T22:45:33.573409",
     "exception": false,
     "start_time": "2022-03-10T22:45:33.525935",
     "status": "completed"
    },
    "tags": []
   },
   "outputs": [],
   "source": [
    "#https://www.kaggle.com/kernels/scriptcontent/3684066/download\n",
    "# reduce the mem useage\n",
    "\n",
    "from pandas.api.types import is_datetime64_any_dtype as is_datetime\n",
    "from pandas.api.types import is_categorical_dtype\n",
    "\n",
    "def reduce_mem_usage(df, use_float16=False):\n",
    "    \"\"\" iterate through all the columns of a dataframe and modify the data type\n",
    "        to reduce memory usage.        \n",
    "    \"\"\"\n",
    "    start_mem = df.memory_usage().sum() / 1024**2\n",
    "    print('Memory usage of dataframe is {:.2f} MB'.format(start_mem))\n",
    "    \n",
    "    #iterating over every column and finding the type of the column\n",
    "    for col in df.columns:\n",
    "      if is_datetime(df[col]) or is_categorical_dtype(df[col]):\n",
    "            continue\n",
    "      col_type = df[col].dtype\n",
    "        \n",
    "        #If the columns is not object\n",
    "      if col_type != object:\n",
    "          #Get the minimum and maximum value\n",
    "            c_min = df[col].min()\n",
    "            c_max = df[col].max()\n",
    "            #If the type is int\n",
    "            if str(col_type)[:3] == 'int':\n",
    "              #If the min max values lies with thin the range of int8 type then assign the type as int8\n",
    "                if c_min > np.iinfo(np.int8).min and c_max < np.iinfo(np.int8).max:\n",
    "                    df[col] = df[col].astype(np.int8)\n",
    "              #If the min max values lies with thin the range of int16 type then assign the type as int16 \n",
    "                elif c_min > np.iinfo(np.int16).min and c_max < np.iinfo(np.int16).max:\n",
    "                    df[col] = df[col].astype(np.int16)\n",
    "              #If the min max values lies with thin the range of int32 type then assign the type as int32\n",
    "                elif c_min > np.iinfo(np.int32).min and c_max < np.iinfo(np.int32).max:\n",
    "                    df[col] = df[col].astype(np.int32)\n",
    "              #If the min max values lies with thin the range of int64 type then assign the type as int64\n",
    "                elif c_min > np.iinfo(np.int64).min and c_max < np.iinfo(np.int64).max:\n",
    "                    df[col] = df[col].astype(np.int64)  \n",
    "            else:\n",
    "              #If the min max values lies with thin the range of float16 type then assign the type as float16\n",
    "                if c_min > np.finfo(np.float16).min and c_max < np.finfo(np.float16).max:\n",
    "                    df[col] = df[col].astype(np.float16)\n",
    "              #If the min max values lies with thin the range of float32 type then assign the type as float32\n",
    "                elif c_min > np.finfo(np.float32).min and c_max < np.finfo(np.float32).max:\n",
    "                    df[col] = df[col].astype(np.float32)\n",
    "                else:\n",
    "                    df[col] = df[col].astype(np.float64)\n",
    "      else:\n",
    "            df[col] = df[col].astype('category')\n",
    "\n",
    "    end_mem = df.memory_usage().sum() / 1024**2\n",
    "    print('Memory usage after optimization is: {:.2f} MB'.format(end_mem))\n",
    "    print('Decreased by {:.1f}%'.format(100 * (start_mem - end_mem) / start_mem))\n",
    "    \n",
    "    return df"
   ]
  },
  {
   "cell_type": "code",
   "execution_count": 6,
   "id": "64a783c3",
   "metadata": {
    "execution": {
     "iopub.execute_input": "2022-03-10T22:45:33.637809Z",
     "iopub.status.busy": "2022-03-10T22:45:33.636298Z",
     "iopub.status.idle": "2022-03-10T22:45:42.458811Z",
     "shell.execute_reply": "2022-03-10T22:45:42.459622Z",
     "shell.execute_reply.started": "2022-03-10T21:53:39.868073Z"
    },
    "papermill": {
     "duration": 8.865242,
     "end_time": "2022-03-10T22:45:42.459888",
     "exception": false,
     "start_time": "2022-03-10T22:45:33.594646",
     "status": "completed"
    },
    "tags": []
   },
   "outputs": [
    {
     "name": "stdout",
     "output_type": "stream",
     "text": [
      "Memory usage of dataframe is 616.95 MB\n",
      "Memory usage after optimization is: 173.84 MB\n",
      "Decreased by 71.8%\n",
      "Memory usage of dataframe is 1272.51 MB\n",
      "Memory usage after optimization is: 358.53 MB\n",
      "Decreased by 71.8%\n"
     ]
    }
   ],
   "source": [
    "train= reduce_mem_usage(train)\n",
    "\n",
    "test= reduce_mem_usage(test)\n"
   ]
  },
  {
   "cell_type": "markdown",
   "id": "2825cc89",
   "metadata": {
    "papermill": {
     "duration": 0.021903,
     "end_time": "2022-03-10T22:45:42.504933",
     "exception": false,
     "start_time": "2022-03-10T22:45:42.483030",
     "status": "completed"
    },
    "tags": []
   },
   "source": [
    "## Combining the datasets"
   ]
  },
  {
   "cell_type": "code",
   "execution_count": 7,
   "id": "d35b6c0f",
   "metadata": {
    "execution": {
     "iopub.execute_input": "2022-03-10T22:45:42.554284Z",
     "iopub.status.busy": "2022-03-10T22:45:42.553242Z",
     "iopub.status.idle": "2022-03-10T22:46:23.736341Z",
     "shell.execute_reply": "2022-03-10T22:46:23.735347Z",
     "shell.execute_reply.started": "2022-03-10T21:53:48.103578Z"
    },
    "papermill": {
     "duration": 41.209571,
     "end_time": "2022-03-10T22:46:23.736520",
     "exception": false,
     "start_time": "2022-03-10T22:45:42.526949",
     "status": "completed"
    },
    "tags": []
   },
   "outputs": [],
   "source": [
    "#We will combine the all the data for train set in a single dataframe and test set in another dataframe\n",
    "train_df = train.merge(building, on='building_id', how='left')\n",
    "test_df = test.merge(building, on='building_id', how='left')\n",
    "# merge weather data\n",
    "train_df = train_df.merge(weather_train, on=['site_id', 'timestamp'], how='left')\n",
    "test_df = test_df.merge(weather_test, on=['site_id', 'timestamp'], how='left')"
   ]
  },
  {
   "cell_type": "code",
   "execution_count": 8,
   "id": "3bf438bd",
   "metadata": {
    "execution": {
     "iopub.execute_input": "2022-03-10T22:46:23.794044Z",
     "iopub.status.busy": "2022-03-10T22:46:23.793144Z",
     "iopub.status.idle": "2022-03-10T22:46:51.410735Z",
     "shell.execute_reply": "2022-03-10T22:46:51.409944Z",
     "shell.execute_reply.started": "2022-03-10T21:54:25.709497Z"
    },
    "papermill": {
     "duration": 27.647583,
     "end_time": "2022-03-10T22:46:51.410902",
     "exception": false,
     "start_time": "2022-03-10T22:46:23.763319",
     "status": "completed"
    },
    "tags": []
   },
   "outputs": [
    {
     "name": "stdout",
     "output_type": "stream",
     "text": [
      "Memory usage of dataframe is 2294.27 MB\n",
      "Memory usage after optimization is: 790.78 MB\n",
      "Decreased by 65.5%\n",
      "Memory usage of dataframe is 4732.15 MB\n",
      "Memory usage after optimization is: 1631.04 MB\n",
      "Decreased by 65.5%\n"
     ]
    }
   ],
   "source": [
    "train_df = reduce_mem_usage(train_df)\n",
    "test_df = reduce_mem_usage(test_df)\n",
    "\n",
    "# drop useless column for test_df\n",
    "test_df = test_df.drop(columns='row_id')"
   ]
  },
  {
   "cell_type": "code",
   "execution_count": 9,
   "id": "a6075702",
   "metadata": {
    "execution": {
     "iopub.execute_input": "2022-03-10T22:46:51.467435Z",
     "iopub.status.busy": "2022-03-10T22:46:51.466650Z",
     "iopub.status.idle": "2022-03-10T22:46:51.527380Z",
     "shell.execute_reply": "2022-03-10T22:46:51.526621Z",
     "shell.execute_reply.started": "2022-03-10T22:06:59.930463Z"
    },
    "papermill": {
     "duration": 0.091127,
     "end_time": "2022-03-10T22:46:51.527553",
     "exception": false,
     "start_time": "2022-03-10T22:46:51.436426",
     "status": "completed"
    },
    "tags": []
   },
   "outputs": [
    {
     "data": {
      "text/html": [
       "<div>\n",
       "<style scoped>\n",
       "    .dataframe tbody tr th:only-of-type {\n",
       "        vertical-align: middle;\n",
       "    }\n",
       "\n",
       "    .dataframe tbody tr th {\n",
       "        vertical-align: top;\n",
       "    }\n",
       "\n",
       "    .dataframe thead th {\n",
       "        text-align: right;\n",
       "    }\n",
       "</style>\n",
       "<table border=\"1\" class=\"dataframe\">\n",
       "  <thead>\n",
       "    <tr style=\"text-align: right;\">\n",
       "      <th></th>\n",
       "      <th>building_id</th>\n",
       "      <th>meter</th>\n",
       "      <th>timestamp</th>\n",
       "      <th>meter_reading</th>\n",
       "      <th>site_id</th>\n",
       "      <th>primary_use</th>\n",
       "      <th>square_feet</th>\n",
       "      <th>year_built</th>\n",
       "      <th>floor_count</th>\n",
       "      <th>air_temperature</th>\n",
       "      <th>cloud_coverage</th>\n",
       "      <th>dew_temperature</th>\n",
       "      <th>precip_depth_1_hr</th>\n",
       "      <th>sea_level_pressure</th>\n",
       "      <th>wind_direction</th>\n",
       "      <th>wind_speed</th>\n",
       "    </tr>\n",
       "  </thead>\n",
       "  <tbody>\n",
       "    <tr>\n",
       "      <th>0</th>\n",
       "      <td>0</td>\n",
       "      <td>0</td>\n",
       "      <td>2016-01-01 00:00:00</td>\n",
       "      <td>0.000000</td>\n",
       "      <td>0</td>\n",
       "      <td>Education</td>\n",
       "      <td>7432</td>\n",
       "      <td>2008.0</td>\n",
       "      <td>NaN</td>\n",
       "      <td>25.000000</td>\n",
       "      <td>6.0</td>\n",
       "      <td>20.000000</td>\n",
       "      <td>NaN</td>\n",
       "      <td>1019.5</td>\n",
       "      <td>0.0</td>\n",
       "      <td>0.000000</td>\n",
       "    </tr>\n",
       "    <tr>\n",
       "      <th>1</th>\n",
       "      <td>1</td>\n",
       "      <td>0</td>\n",
       "      <td>2016-01-01 00:00:00</td>\n",
       "      <td>0.000000</td>\n",
       "      <td>0</td>\n",
       "      <td>Education</td>\n",
       "      <td>2720</td>\n",
       "      <td>2004.0</td>\n",
       "      <td>NaN</td>\n",
       "      <td>25.000000</td>\n",
       "      <td>6.0</td>\n",
       "      <td>20.000000</td>\n",
       "      <td>NaN</td>\n",
       "      <td>1019.5</td>\n",
       "      <td>0.0</td>\n",
       "      <td>0.000000</td>\n",
       "    </tr>\n",
       "    <tr>\n",
       "      <th>2</th>\n",
       "      <td>2</td>\n",
       "      <td>0</td>\n",
       "      <td>2016-01-01 00:00:00</td>\n",
       "      <td>0.000000</td>\n",
       "      <td>0</td>\n",
       "      <td>Education</td>\n",
       "      <td>5376</td>\n",
       "      <td>1991.0</td>\n",
       "      <td>NaN</td>\n",
       "      <td>25.000000</td>\n",
       "      <td>6.0</td>\n",
       "      <td>20.000000</td>\n",
       "      <td>NaN</td>\n",
       "      <td>1019.5</td>\n",
       "      <td>0.0</td>\n",
       "      <td>0.000000</td>\n",
       "    </tr>\n",
       "    <tr>\n",
       "      <th>3</th>\n",
       "      <td>3</td>\n",
       "      <td>0</td>\n",
       "      <td>2016-01-01 00:00:00</td>\n",
       "      <td>0.000000</td>\n",
       "      <td>0</td>\n",
       "      <td>Education</td>\n",
       "      <td>23685</td>\n",
       "      <td>2002.0</td>\n",
       "      <td>NaN</td>\n",
       "      <td>25.000000</td>\n",
       "      <td>6.0</td>\n",
       "      <td>20.000000</td>\n",
       "      <td>NaN</td>\n",
       "      <td>1019.5</td>\n",
       "      <td>0.0</td>\n",
       "      <td>0.000000</td>\n",
       "    </tr>\n",
       "    <tr>\n",
       "      <th>4</th>\n",
       "      <td>4</td>\n",
       "      <td>0</td>\n",
       "      <td>2016-01-01 00:00:00</td>\n",
       "      <td>0.000000</td>\n",
       "      <td>0</td>\n",
       "      <td>Education</td>\n",
       "      <td>116607</td>\n",
       "      <td>1975.0</td>\n",
       "      <td>NaN</td>\n",
       "      <td>25.000000</td>\n",
       "      <td>6.0</td>\n",
       "      <td>20.000000</td>\n",
       "      <td>NaN</td>\n",
       "      <td>1019.5</td>\n",
       "      <td>0.0</td>\n",
       "      <td>0.000000</td>\n",
       "    </tr>\n",
       "    <tr>\n",
       "      <th>...</th>\n",
       "      <td>...</td>\n",
       "      <td>...</td>\n",
       "      <td>...</td>\n",
       "      <td>...</td>\n",
       "      <td>...</td>\n",
       "      <td>...</td>\n",
       "      <td>...</td>\n",
       "      <td>...</td>\n",
       "      <td>...</td>\n",
       "      <td>...</td>\n",
       "      <td>...</td>\n",
       "      <td>...</td>\n",
       "      <td>...</td>\n",
       "      <td>...</td>\n",
       "      <td>...</td>\n",
       "      <td>...</td>\n",
       "    </tr>\n",
       "    <tr>\n",
       "      <th>20216095</th>\n",
       "      <td>1444</td>\n",
       "      <td>0</td>\n",
       "      <td>2016-12-31 23:00:00</td>\n",
       "      <td>8.750000</td>\n",
       "      <td>15</td>\n",
       "      <td>Entertainment/public assembly</td>\n",
       "      <td>19619</td>\n",
       "      <td>1914.0</td>\n",
       "      <td>NaN</td>\n",
       "      <td>1.700195</td>\n",
       "      <td>NaN</td>\n",
       "      <td>-5.601562</td>\n",
       "      <td>-1.0</td>\n",
       "      <td>1008.5</td>\n",
       "      <td>180.0</td>\n",
       "      <td>8.796875</td>\n",
       "    </tr>\n",
       "    <tr>\n",
       "      <th>20216096</th>\n",
       "      <td>1445</td>\n",
       "      <td>0</td>\n",
       "      <td>2016-12-31 23:00:00</td>\n",
       "      <td>4.825000</td>\n",
       "      <td>15</td>\n",
       "      <td>Education</td>\n",
       "      <td>4298</td>\n",
       "      <td>NaN</td>\n",
       "      <td>NaN</td>\n",
       "      <td>1.700195</td>\n",
       "      <td>NaN</td>\n",
       "      <td>-5.601562</td>\n",
       "      <td>-1.0</td>\n",
       "      <td>1008.5</td>\n",
       "      <td>180.0</td>\n",
       "      <td>8.796875</td>\n",
       "    </tr>\n",
       "    <tr>\n",
       "      <th>20216097</th>\n",
       "      <td>1446</td>\n",
       "      <td>0</td>\n",
       "      <td>2016-12-31 23:00:00</td>\n",
       "      <td>0.000000</td>\n",
       "      <td>15</td>\n",
       "      <td>Entertainment/public assembly</td>\n",
       "      <td>11265</td>\n",
       "      <td>1997.0</td>\n",
       "      <td>NaN</td>\n",
       "      <td>1.700195</td>\n",
       "      <td>NaN</td>\n",
       "      <td>-5.601562</td>\n",
       "      <td>-1.0</td>\n",
       "      <td>1008.5</td>\n",
       "      <td>180.0</td>\n",
       "      <td>8.796875</td>\n",
       "    </tr>\n",
       "    <tr>\n",
       "      <th>20216098</th>\n",
       "      <td>1447</td>\n",
       "      <td>0</td>\n",
       "      <td>2016-12-31 23:00:00</td>\n",
       "      <td>159.574997</td>\n",
       "      <td>15</td>\n",
       "      <td>Lodging/residential</td>\n",
       "      <td>29775</td>\n",
       "      <td>2001.0</td>\n",
       "      <td>NaN</td>\n",
       "      <td>1.700195</td>\n",
       "      <td>NaN</td>\n",
       "      <td>-5.601562</td>\n",
       "      <td>-1.0</td>\n",
       "      <td>1008.5</td>\n",
       "      <td>180.0</td>\n",
       "      <td>8.796875</td>\n",
       "    </tr>\n",
       "    <tr>\n",
       "      <th>20216099</th>\n",
       "      <td>1448</td>\n",
       "      <td>0</td>\n",
       "      <td>2016-12-31 23:00:00</td>\n",
       "      <td>2.850000</td>\n",
       "      <td>15</td>\n",
       "      <td>Office</td>\n",
       "      <td>92271</td>\n",
       "      <td>2001.0</td>\n",
       "      <td>NaN</td>\n",
       "      <td>1.700195</td>\n",
       "      <td>NaN</td>\n",
       "      <td>-5.601562</td>\n",
       "      <td>-1.0</td>\n",
       "      <td>1008.5</td>\n",
       "      <td>180.0</td>\n",
       "      <td>8.796875</td>\n",
       "    </tr>\n",
       "  </tbody>\n",
       "</table>\n",
       "<p>20216100 rows × 16 columns</p>\n",
       "</div>"
      ],
      "text/plain": [
       "          building_id  meter            timestamp  meter_reading  site_id  \\\n",
       "0                   0      0  2016-01-01 00:00:00       0.000000        0   \n",
       "1                   1      0  2016-01-01 00:00:00       0.000000        0   \n",
       "2                   2      0  2016-01-01 00:00:00       0.000000        0   \n",
       "3                   3      0  2016-01-01 00:00:00       0.000000        0   \n",
       "4                   4      0  2016-01-01 00:00:00       0.000000        0   \n",
       "...               ...    ...                  ...            ...      ...   \n",
       "20216095         1444      0  2016-12-31 23:00:00       8.750000       15   \n",
       "20216096         1445      0  2016-12-31 23:00:00       4.825000       15   \n",
       "20216097         1446      0  2016-12-31 23:00:00       0.000000       15   \n",
       "20216098         1447      0  2016-12-31 23:00:00     159.574997       15   \n",
       "20216099         1448      0  2016-12-31 23:00:00       2.850000       15   \n",
       "\n",
       "                            primary_use  square_feet  year_built  floor_count  \\\n",
       "0                             Education         7432      2008.0          NaN   \n",
       "1                             Education         2720      2004.0          NaN   \n",
       "2                             Education         5376      1991.0          NaN   \n",
       "3                             Education        23685      2002.0          NaN   \n",
       "4                             Education       116607      1975.0          NaN   \n",
       "...                                 ...          ...         ...          ...   \n",
       "20216095  Entertainment/public assembly        19619      1914.0          NaN   \n",
       "20216096                      Education         4298         NaN          NaN   \n",
       "20216097  Entertainment/public assembly        11265      1997.0          NaN   \n",
       "20216098            Lodging/residential        29775      2001.0          NaN   \n",
       "20216099                         Office        92271      2001.0          NaN   \n",
       "\n",
       "          air_temperature  cloud_coverage  dew_temperature  precip_depth_1_hr  \\\n",
       "0               25.000000             6.0        20.000000                NaN   \n",
       "1               25.000000             6.0        20.000000                NaN   \n",
       "2               25.000000             6.0        20.000000                NaN   \n",
       "3               25.000000             6.0        20.000000                NaN   \n",
       "4               25.000000             6.0        20.000000                NaN   \n",
       "...                   ...             ...              ...                ...   \n",
       "20216095         1.700195             NaN        -5.601562               -1.0   \n",
       "20216096         1.700195             NaN        -5.601562               -1.0   \n",
       "20216097         1.700195             NaN        -5.601562               -1.0   \n",
       "20216098         1.700195             NaN        -5.601562               -1.0   \n",
       "20216099         1.700195             NaN        -5.601562               -1.0   \n",
       "\n",
       "          sea_level_pressure  wind_direction  wind_speed  \n",
       "0                     1019.5             0.0    0.000000  \n",
       "1                     1019.5             0.0    0.000000  \n",
       "2                     1019.5             0.0    0.000000  \n",
       "3                     1019.5             0.0    0.000000  \n",
       "4                     1019.5             0.0    0.000000  \n",
       "...                      ...             ...         ...  \n",
       "20216095              1008.5           180.0    8.796875  \n",
       "20216096              1008.5           180.0    8.796875  \n",
       "20216097              1008.5           180.0    8.796875  \n",
       "20216098              1008.5           180.0    8.796875  \n",
       "20216099              1008.5           180.0    8.796875  \n",
       "\n",
       "[20216100 rows x 16 columns]"
      ]
     },
     "execution_count": 9,
     "metadata": {},
     "output_type": "execute_result"
    }
   ],
   "source": [
    "# Because test.csv has not meter reading, we only use train_df to do the EDA.\n",
    "train_df"
   ]
  },
  {
   "cell_type": "markdown",
   "id": "ee71de35",
   "metadata": {
    "papermill": {
     "duration": 0.03011,
     "end_time": "2022-03-10T22:46:51.590564",
     "exception": false,
     "start_time": "2022-03-10T22:46:51.560454",
     "status": "completed"
    },
    "tags": []
   },
   "source": [
    "## Check null values"
   ]
  },
  {
   "cell_type": "code",
   "execution_count": 10,
   "id": "ff1e6c48",
   "metadata": {
    "execution": {
     "iopub.execute_input": "2022-03-10T22:46:51.647973Z",
     "iopub.status.busy": "2022-03-10T22:46:51.646406Z",
     "iopub.status.idle": "2022-03-10T22:46:52.848991Z",
     "shell.execute_reply": "2022-03-10T22:46:52.848406Z",
     "shell.execute_reply.started": "2022-03-10T22:23:35.452611Z"
    },
    "papermill": {
     "duration": 1.231761,
     "end_time": "2022-03-10T22:46:52.849134",
     "exception": false,
     "start_time": "2022-03-10T22:46:51.617373",
     "status": "completed"
    },
    "tags": []
   },
   "outputs": [
    {
     "data": {
      "text/plain": [
       "building_id                  0\n",
       "meter                        0\n",
       "timestamp                    0\n",
       "meter_reading                0\n",
       "site_id                      0\n",
       "primary_use                  0\n",
       "square_feet                  0\n",
       "year_built            12127645\n",
       "floor_count           16709167\n",
       "air_temperature          96658\n",
       "cloud_coverage         8825365\n",
       "dew_temperature         100140\n",
       "precip_depth_1_hr      3749023\n",
       "sea_level_pressure     1231669\n",
       "wind_direction         1449048\n",
       "wind_speed              143676\n",
       "dtype: int64"
      ]
     },
     "execution_count": 10,
     "metadata": {},
     "output_type": "execute_result"
    }
   ],
   "source": [
    "#Check null values\n",
    "train_df.isnull().sum()"
   ]
  },
  {
   "cell_type": "markdown",
   "id": "9814cf54",
   "metadata": {
    "papermill": {
     "duration": 0.023976,
     "end_time": "2022-03-10T22:46:52.897730",
     "exception": false,
     "start_time": "2022-03-10T22:46:52.873754",
     "status": "completed"
    },
    "tags": []
   },
   "source": [
    "many missing values. maybe imputate them during pre-processing stage."
   ]
  },
  {
   "cell_type": "code",
   "execution_count": 11,
   "id": "9798257e",
   "metadata": {
    "execution": {
     "iopub.execute_input": "2022-03-10T22:46:52.955834Z",
     "iopub.status.busy": "2022-03-10T22:46:52.954403Z",
     "iopub.status.idle": "2022-03-10T22:46:55.273957Z",
     "shell.execute_reply": "2022-03-10T22:46:55.273303Z",
     "shell.execute_reply.started": "2022-03-10T22:23:36.596044Z"
    },
    "papermill": {
     "duration": 2.34996,
     "end_time": "2022-03-10T22:46:55.274109",
     "exception": false,
     "start_time": "2022-03-10T22:46:52.924149",
     "status": "completed"
    },
    "tags": []
   },
   "outputs": [
    {
     "data": {
      "text/plain": [
       "building_id                  0\n",
       "meter                        0\n",
       "timestamp                    0\n",
       "site_id                      0\n",
       "primary_use                  0\n",
       "square_feet                  0\n",
       "year_built            24598080\n",
       "floor_count           34444320\n",
       "air_temperature         221901\n",
       "cloud_coverage        19542180\n",
       "dew_temperature         260799\n",
       "precip_depth_1_hr      7801563\n",
       "sea_level_pressure     2516826\n",
       "wind_direction         2978663\n",
       "wind_speed              302089\n",
       "dtype: int64"
      ]
     },
     "execution_count": 11,
     "metadata": {},
     "output_type": "execute_result"
    }
   ],
   "source": [
    "test_df.isnull().sum()"
   ]
  },
  {
   "cell_type": "markdown",
   "id": "0686e8c0",
   "metadata": {
    "papermill": {
     "duration": 0.024369,
     "end_time": "2022-03-10T22:46:55.323668",
     "exception": false,
     "start_time": "2022-03-10T22:46:55.299299",
     "status": "completed"
    },
    "tags": []
   },
   "source": [
    "## Break the datatime into day, month, year"
   ]
  },
  {
   "cell_type": "code",
   "execution_count": 12,
   "id": "a7c303d9",
   "metadata": {
    "execution": {
     "iopub.execute_input": "2022-03-10T22:46:55.384723Z",
     "iopub.status.busy": "2022-03-10T22:46:55.383917Z",
     "iopub.status.idle": "2022-03-10T22:47:34.382841Z",
     "shell.execute_reply": "2022-03-10T22:47:34.382055Z",
     "shell.execute_reply.started": "2022-03-10T22:27:02.376244Z"
    },
    "papermill": {
     "duration": 39.03332,
     "end_time": "2022-03-10T22:47:34.383000",
     "exception": false,
     "start_time": "2022-03-10T22:46:55.349680",
     "status": "completed"
    },
    "tags": []
   },
   "outputs": [],
   "source": [
    "#We will break the timestamp into hour of the day, day of the week and month of the year\n",
    "\n",
    "def break_datetime(df):\n",
    "  df['timestamp']= pd.to_datetime(df['timestamp'])\n",
    "  df['hour']= np.uint8(df['timestamp'].dt.hour)\n",
    "  df['dayofweek']= np.uint8(df['timestamp'].dt.dayofweek)\n",
    "  df['month']= np.uint8(df['timestamp'].dt.month)\n",
    "  df['dayofyear']= np.uint16(df['timestamp'].dt.dayofyear)\n",
    "  df['day']= np.uint16(df['timestamp'].dt.day)\n",
    "  df['year']= np.uint16(df['timestamp'].dt.year)\n",
    "  return df\n",
    "\n",
    "train_df= break_datetime(train_df)\n",
    "test_df= break_datetime(test_df)"
   ]
  },
  {
   "cell_type": "code",
   "execution_count": 13,
   "id": "321a76bd",
   "metadata": {
    "execution": {
     "iopub.execute_input": "2022-03-10T22:47:34.454671Z",
     "iopub.status.busy": "2022-03-10T22:47:34.438824Z",
     "iopub.status.idle": "2022-03-10T22:47:34.468808Z",
     "shell.execute_reply": "2022-03-10T22:47:34.468068Z",
     "shell.execute_reply.started": "2022-03-10T22:27:44.741845Z"
    },
    "papermill": {
     "duration": 0.061079,
     "end_time": "2022-03-10T22:47:34.468959",
     "exception": false,
     "start_time": "2022-03-10T22:47:34.407880",
     "status": "completed"
    },
    "tags": []
   },
   "outputs": [
    {
     "data": {
      "text/html": [
       "<div>\n",
       "<style scoped>\n",
       "    .dataframe tbody tr th:only-of-type {\n",
       "        vertical-align: middle;\n",
       "    }\n",
       "\n",
       "    .dataframe tbody tr th {\n",
       "        vertical-align: top;\n",
       "    }\n",
       "\n",
       "    .dataframe thead th {\n",
       "        text-align: right;\n",
       "    }\n",
       "</style>\n",
       "<table border=\"1\" class=\"dataframe\">\n",
       "  <thead>\n",
       "    <tr style=\"text-align: right;\">\n",
       "      <th></th>\n",
       "      <th>building_id</th>\n",
       "      <th>meter</th>\n",
       "      <th>timestamp</th>\n",
       "      <th>meter_reading</th>\n",
       "      <th>site_id</th>\n",
       "      <th>primary_use</th>\n",
       "      <th>square_feet</th>\n",
       "      <th>year_built</th>\n",
       "      <th>floor_count</th>\n",
       "      <th>air_temperature</th>\n",
       "      <th>...</th>\n",
       "      <th>precip_depth_1_hr</th>\n",
       "      <th>sea_level_pressure</th>\n",
       "      <th>wind_direction</th>\n",
       "      <th>wind_speed</th>\n",
       "      <th>hour</th>\n",
       "      <th>dayofweek</th>\n",
       "      <th>month</th>\n",
       "      <th>dayofyear</th>\n",
       "      <th>day</th>\n",
       "      <th>year</th>\n",
       "    </tr>\n",
       "  </thead>\n",
       "  <tbody>\n",
       "    <tr>\n",
       "      <th>0</th>\n",
       "      <td>0</td>\n",
       "      <td>0</td>\n",
       "      <td>2016-01-01</td>\n",
       "      <td>0.0</td>\n",
       "      <td>0</td>\n",
       "      <td>Education</td>\n",
       "      <td>7432</td>\n",
       "      <td>2008.0</td>\n",
       "      <td>NaN</td>\n",
       "      <td>25.0</td>\n",
       "      <td>...</td>\n",
       "      <td>NaN</td>\n",
       "      <td>1019.5</td>\n",
       "      <td>0.0</td>\n",
       "      <td>0.0</td>\n",
       "      <td>0</td>\n",
       "      <td>4</td>\n",
       "      <td>1</td>\n",
       "      <td>1</td>\n",
       "      <td>1</td>\n",
       "      <td>2016</td>\n",
       "    </tr>\n",
       "    <tr>\n",
       "      <th>1</th>\n",
       "      <td>1</td>\n",
       "      <td>0</td>\n",
       "      <td>2016-01-01</td>\n",
       "      <td>0.0</td>\n",
       "      <td>0</td>\n",
       "      <td>Education</td>\n",
       "      <td>2720</td>\n",
       "      <td>2004.0</td>\n",
       "      <td>NaN</td>\n",
       "      <td>25.0</td>\n",
       "      <td>...</td>\n",
       "      <td>NaN</td>\n",
       "      <td>1019.5</td>\n",
       "      <td>0.0</td>\n",
       "      <td>0.0</td>\n",
       "      <td>0</td>\n",
       "      <td>4</td>\n",
       "      <td>1</td>\n",
       "      <td>1</td>\n",
       "      <td>1</td>\n",
       "      <td>2016</td>\n",
       "    </tr>\n",
       "    <tr>\n",
       "      <th>2</th>\n",
       "      <td>2</td>\n",
       "      <td>0</td>\n",
       "      <td>2016-01-01</td>\n",
       "      <td>0.0</td>\n",
       "      <td>0</td>\n",
       "      <td>Education</td>\n",
       "      <td>5376</td>\n",
       "      <td>1991.0</td>\n",
       "      <td>NaN</td>\n",
       "      <td>25.0</td>\n",
       "      <td>...</td>\n",
       "      <td>NaN</td>\n",
       "      <td>1019.5</td>\n",
       "      <td>0.0</td>\n",
       "      <td>0.0</td>\n",
       "      <td>0</td>\n",
       "      <td>4</td>\n",
       "      <td>1</td>\n",
       "      <td>1</td>\n",
       "      <td>1</td>\n",
       "      <td>2016</td>\n",
       "    </tr>\n",
       "    <tr>\n",
       "      <th>3</th>\n",
       "      <td>3</td>\n",
       "      <td>0</td>\n",
       "      <td>2016-01-01</td>\n",
       "      <td>0.0</td>\n",
       "      <td>0</td>\n",
       "      <td>Education</td>\n",
       "      <td>23685</td>\n",
       "      <td>2002.0</td>\n",
       "      <td>NaN</td>\n",
       "      <td>25.0</td>\n",
       "      <td>...</td>\n",
       "      <td>NaN</td>\n",
       "      <td>1019.5</td>\n",
       "      <td>0.0</td>\n",
       "      <td>0.0</td>\n",
       "      <td>0</td>\n",
       "      <td>4</td>\n",
       "      <td>1</td>\n",
       "      <td>1</td>\n",
       "      <td>1</td>\n",
       "      <td>2016</td>\n",
       "    </tr>\n",
       "    <tr>\n",
       "      <th>4</th>\n",
       "      <td>4</td>\n",
       "      <td>0</td>\n",
       "      <td>2016-01-01</td>\n",
       "      <td>0.0</td>\n",
       "      <td>0</td>\n",
       "      <td>Education</td>\n",
       "      <td>116607</td>\n",
       "      <td>1975.0</td>\n",
       "      <td>NaN</td>\n",
       "      <td>25.0</td>\n",
       "      <td>...</td>\n",
       "      <td>NaN</td>\n",
       "      <td>1019.5</td>\n",
       "      <td>0.0</td>\n",
       "      <td>0.0</td>\n",
       "      <td>0</td>\n",
       "      <td>4</td>\n",
       "      <td>1</td>\n",
       "      <td>1</td>\n",
       "      <td>1</td>\n",
       "      <td>2016</td>\n",
       "    </tr>\n",
       "  </tbody>\n",
       "</table>\n",
       "<p>5 rows × 22 columns</p>\n",
       "</div>"
      ],
      "text/plain": [
       "   building_id  meter  timestamp  meter_reading  site_id primary_use  \\\n",
       "0            0      0 2016-01-01            0.0        0   Education   \n",
       "1            1      0 2016-01-01            0.0        0   Education   \n",
       "2            2      0 2016-01-01            0.0        0   Education   \n",
       "3            3      0 2016-01-01            0.0        0   Education   \n",
       "4            4      0 2016-01-01            0.0        0   Education   \n",
       "\n",
       "   square_feet  year_built  floor_count  air_temperature  ...  \\\n",
       "0         7432      2008.0          NaN             25.0  ...   \n",
       "1         2720      2004.0          NaN             25.0  ...   \n",
       "2         5376      1991.0          NaN             25.0  ...   \n",
       "3        23685      2002.0          NaN             25.0  ...   \n",
       "4       116607      1975.0          NaN             25.0  ...   \n",
       "\n",
       "   precip_depth_1_hr  sea_level_pressure  wind_direction  wind_speed  hour  \\\n",
       "0                NaN              1019.5             0.0         0.0     0   \n",
       "1                NaN              1019.5             0.0         0.0     0   \n",
       "2                NaN              1019.5             0.0         0.0     0   \n",
       "3                NaN              1019.5             0.0         0.0     0   \n",
       "4                NaN              1019.5             0.0         0.0     0   \n",
       "\n",
       "   dayofweek  month  dayofyear  day  year  \n",
       "0          4      1          1    1  2016  \n",
       "1          4      1          1    1  2016  \n",
       "2          4      1          1    1  2016  \n",
       "3          4      1          1    1  2016  \n",
       "4          4      1          1    1  2016  \n",
       "\n",
       "[5 rows x 22 columns]"
      ]
     },
     "execution_count": 13,
     "metadata": {},
     "output_type": "execute_result"
    }
   ],
   "source": [
    "train_df.head()"
   ]
  },
  {
   "cell_type": "markdown",
   "id": "f6f76ace",
   "metadata": {
    "papermill": {
     "duration": 0.026717,
     "end_time": "2022-03-10T22:47:34.524672",
     "exception": false,
     "start_time": "2022-03-10T22:47:34.497955",
     "status": "completed"
    },
    "tags": []
   },
   "source": [
    "## Descriptive analysis"
   ]
  },
  {
   "cell_type": "code",
   "execution_count": null,
   "id": "9b68b70e",
   "metadata": {
    "papermill": {
     "duration": 0.028274,
     "end_time": "2022-03-10T22:47:34.580035",
     "exception": false,
     "start_time": "2022-03-10T22:47:34.551761",
     "status": "completed"
    },
    "tags": []
   },
   "outputs": [],
   "source": []
  }
 ],
 "metadata": {
  "kernelspec": {
   "display_name": "Python 3",
   "language": "python",
   "name": "python3"
  },
  "language_info": {
   "codemirror_mode": {
    "name": "ipython",
    "version": 3
   },
   "file_extension": ".py",
   "mimetype": "text/x-python",
   "name": "python",
   "nbconvert_exporter": "python",
   "pygments_lexer": "ipython3",
   "version": "3.7.12"
  },
  "papermill": {
   "default_parameters": {},
   "duration": 194.231531,
   "end_time": "2022-03-10T22:47:35.821163",
   "environment_variables": {},
   "exception": null,
   "input_path": "__notebook__.ipynb",
   "output_path": "__notebook__.ipynb",
   "parameters": {},
   "start_time": "2022-03-10T22:44:21.589632",
   "version": "2.3.3"
  }
 },
 "nbformat": 4,
 "nbformat_minor": 5
}
